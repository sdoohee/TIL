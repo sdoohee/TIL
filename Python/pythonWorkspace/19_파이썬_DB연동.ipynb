{
 "cells": [
  {
   "cell_type": "markdown",
   "id": "5922b14d-5343-4f09-8f28-ca08132c1b2a",
   "metadata": {},
   "source": [
    "### 파이썬 DB 연동\n",
    "- CRUD 작업 처리\n",
    "- CREATE / READ / UPDATE / DELETE\n",
    "- INSERT / SELECT / UPDATE / DELETE"
   ]
  },
  {
   "cell_type": "markdown",
   "id": "8d43186f-87cd-4978-b336-3e0cfa6b6fd8",
   "metadata": {},
   "source": [
    "### 파이썬에서 MySQL 연동 패키지 지원\n",
    "- pymysql 패키지 사용"
   ]
  },
  {
   "cell_type": "code",
   "execution_count": 26,
   "id": "e720a0bb-a5fe-4c36-88f6-c01d0e11a6ff",
   "metadata": {},
   "outputs": [
    {
     "name": "stdout",
     "output_type": "stream",
     "text": [
      "Requirement already satisfied: pymysql in /Library/Frameworks/Python.framework/Versions/3.11/lib/python3.11/site-packages (1.1.0)\n"
     ]
    }
   ],
   "source": [
    "# pymysql 패키지 설치\n",
    "!pip install pymysql"
   ]
  },
  {
   "cell_type": "code",
   "execution_count": 27,
   "id": "92fe4e3f-2021-4bc8-bcae-a5736588281e",
   "metadata": {},
   "outputs": [],
   "source": [
    "import pymysql"
   ]
  },
  {
   "cell_type": "code",
   "execution_count": 28,
   "id": "18f806e2-b960-4718-85a6-da048cdb4e4c",
   "metadata": {},
   "outputs": [
    {
     "name": "stdout",
     "output_type": "stream",
     "text": [
      "Requirement already satisfied: cryptography in /Library/Frameworks/Python.framework/Versions/3.11/lib/python3.11/site-packages (41.0.4)\n",
      "Requirement already satisfied: cffi>=1.12 in /Library/Frameworks/Python.framework/Versions/3.11/lib/python3.11/site-packages (from cryptography) (1.15.1)\n",
      "Requirement already satisfied: pycparser in /Library/Frameworks/Python.framework/Versions/3.11/lib/python3.11/site-packages (from cffi>=1.12->cryptography) (2.21)\n",
      "Note: you may need to restart the kernel to use updated packages.\n"
     ]
    }
   ],
   "source": [
    "pip install cryptography"
   ]
  },
  {
   "cell_type": "code",
   "execution_count": 29,
   "id": "7589e9b8-fbe2-4205-b8ff-cb97e735c509",
   "metadata": {
    "scrolled": true
   },
   "outputs": [],
   "source": [
    "# 1. DB 연결 \n",
    "# 호스트명, 포트번호, 로그인 계정, 비밀번호, CHARSET 파라미터로 지정 \n",
    "\n",
    "conn = pymysql.connect(host='localhost', \n",
    "                       port=3306, \n",
    "                       user='root', \n",
    "                       passwd='sjh0808!',\n",
    "                       charset='utf8')\n",
    "# 연결 객체 반환 "
   ]
  },
  {
   "cell_type": "code",
   "execution_count": 30,
   "id": "eaa4cf18-e328-487b-81cf-c5aafa2dd608",
   "metadata": {},
   "outputs": [],
   "source": [
    "cursor = conn.cursor()"
   ]
  },
  {
   "cell_type": "code",
   "execution_count": 31,
   "id": "c5d32d83-2112-4f5c-bfd4-8720f201a942",
   "metadata": {},
   "outputs": [
    {
     "data": {
      "text/plain": [
       "9"
      ]
     },
     "execution_count": 31,
     "metadata": {},
     "output_type": "execute_result"
    }
   ],
   "source": [
    "sql = 'show databases'\n",
    "cursor.execute(sql)"
   ]
  },
  {
   "cell_type": "code",
   "execution_count": 32,
   "id": "9c196444-a18a-4fcd-b948-b239e7089ca3",
   "metadata": {},
   "outputs": [
    {
     "data": {
      "text/plain": [
       "(('information_schema',),\n",
       " ('mysql',),\n",
       " ('performance_schema',),\n",
       " ('shopdb',),\n",
       " ('sqldb1',),\n",
       " ('sqldb2',),\n",
       " ('sqldb3',),\n",
       " ('sys',),\n",
       " ('testdb',))"
      ]
     },
     "execution_count": 32,
     "metadata": {},
     "output_type": "execute_result"
    }
   ],
   "source": [
    "# 4. sql 실행 결과 추출 (출력)\n",
    "# 서버로부터 받은 결과를 출력 \n",
    "# fetchall() 메소드 사용 : 모든 데이터를 한꺼번에 클라이언트로 받아올 때 사용 \n",
    "result = cursor.fetchall()\n",
    "result"
   ]
  },
  {
   "cell_type": "code",
   "execution_count": 33,
   "id": "a56a9579-55aa-4c3e-b02b-7b24084bad4f",
   "metadata": {},
   "outputs": [
    {
     "data": {
      "text/plain": [
       "1"
      ]
     },
     "execution_count": 33,
     "metadata": {},
     "output_type": "execute_result"
    }
   ],
   "source": [
    "# 새로운 데이터베이스 생성\n",
    "sql = 'create database beuty_shop'\n",
    "cursor.execute(sql)"
   ]
  },
  {
   "cell_type": "code",
   "execution_count": 34,
   "id": "143b625e-7065-4bfe-9ab2-ce61a2dab0a2",
   "metadata": {},
   "outputs": [
    {
     "data": {
      "text/plain": [
       "(('beuty_shop',),\n",
       " ('information_schema',),\n",
       " ('mysql',),\n",
       " ('performance_schema',),\n",
       " ('shopdb',),\n",
       " ('sqldb1',),\n",
       " ('sqldb2',),\n",
       " ('sqldb3',),\n",
       " ('sys',),\n",
       " ('testdb',))"
      ]
     },
     "execution_count": 34,
     "metadata": {},
     "output_type": "execute_result"
    }
   ],
   "source": [
    "# beuty_shop 데이터베이스 생성 확인\n",
    "sql = \"show databases\"\n",
    "cursor.execute(sql)\n",
    "result = cursor.fetchall()\n",
    "result"
   ]
  },
  {
   "cell_type": "code",
   "execution_count": 35,
   "id": "d9be10ab-6dfb-43f4-9922-0ef5f0dba3c8",
   "metadata": {},
   "outputs": [
    {
     "data": {
      "text/plain": [
       "0"
      ]
     },
     "execution_count": 35,
     "metadata": {},
     "output_type": "execute_result"
    }
   ],
   "source": [
    "# 데이터베이스 삭제\n",
    "sql = 'drop database beuty_shop'\n",
    "cursor.execute(sql)"
   ]
  },
  {
   "cell_type": "code",
   "execution_count": 36,
   "id": "4a190925-fd6f-4ce7-a831-02cc2fb9796c",
   "metadata": {},
   "outputs": [
    {
     "data": {
      "text/plain": [
       "(('information_schema',),\n",
       " ('mysql',),\n",
       " ('performance_schema',),\n",
       " ('shopdb',),\n",
       " ('sqldb1',),\n",
       " ('sqldb2',),\n",
       " ('sqldb3',),\n",
       " ('sys',),\n",
       " ('testdb',))"
      ]
     },
     "execution_count": 36,
     "metadata": {},
     "output_type": "execute_result"
    }
   ],
   "source": [
    "# beuty_shop 데이터베이스 삭제 확인\n",
    "sql = \"show databases\"\n",
    "cursor.execute(sql)\n",
    "result = cursor.fetchall()\n",
    "result"
   ]
  },
  {
   "cell_type": "code",
   "execution_count": 37,
   "id": "94f58afb-11c4-4e10-8271-34545d41015b",
   "metadata": {},
   "outputs": [
    {
     "data": {
      "text/plain": [
       "0"
      ]
     },
     "execution_count": 37,
     "metadata": {},
     "output_type": "execute_result"
    }
   ],
   "source": [
    "# 사용할 데이터베이스 선택\n",
    "sql = 'use sqldb3'\n",
    "cursor.execute(sql)"
   ]
  },
  {
   "cell_type": "code",
   "execution_count": 38,
   "id": "b350e894-c2e1-4cf8-909a-03800d7bdd91",
   "metadata": {},
   "outputs": [
    {
     "data": {
      "text/plain": [
       "0"
      ]
     },
     "execution_count": 38,
     "metadata": {},
     "output_type": "execute_result"
    }
   ],
   "source": [
    "# 테이블 생성\n",
    "sql = \"\"\"\n",
    "    create table shop(\n",
    "        prdNo int auto_increment not null primary key,\n",
    "        prdName varchar(100),\n",
    "        prdPrice float,\n",
    "        prdDisPrice float\n",
    "    )\n",
    "\"\"\"\n",
    "\n",
    "cursor.execute(sql)"
   ]
  },
  {
   "cell_type": "code",
   "execution_count": 39,
   "id": "822df8b0-609d-4c32-8ea3-afe1acdc99da",
   "metadata": {},
   "outputs": [
    {
     "data": {
      "text/plain": [
       "(('book',),\n",
       " ('bookSale',),\n",
       " ('client',),\n",
       " ('client_view',),\n",
       " ('flower',),\n",
       " ('movie',),\n",
       " ('new_book1',),\n",
       " ('new_book2',),\n",
       " ('publisher',),\n",
       " ('shop',),\n",
       " ('top5_sales_client3',),\n",
       " ('top5_sales_clients',))"
      ]
     },
     "execution_count": 39,
     "metadata": {},
     "output_type": "execute_result"
    }
   ],
   "source": [
    "# 생성된 테이블 확인\n",
    "sql = \"show tables\"\n",
    "cursor.execute(sql)\n",
    "cursor.fetchall()"
   ]
  },
  {
   "cell_type": "code",
   "execution_count": 40,
   "id": "e853ee24-adcd-4592-867b-4a6dceb2268d",
   "metadata": {},
   "outputs": [
    {
     "data": {
      "text/plain": [
       "0"
      ]
     },
     "execution_count": 40,
     "metadata": {},
     "output_type": "execute_result"
    }
   ],
   "source": [
    "sql = 'drop table shop'\n",
    "cursor.execute(sql)"
   ]
  },
  {
   "cell_type": "code",
   "execution_count": 41,
   "id": "77199bf3-37dd-42ac-a631-d304085ec388",
   "metadata": {},
   "outputs": [
    {
     "data": {
      "text/plain": [
       "(('bookNo', 'varchar(10)', 'NO', 'PRI', None, ''),\n",
       " ('bookName', 'varchar(30)', 'NO', '', None, ''),\n",
       " ('bookAuthor', 'varchar(20)', 'NO', '', None, ''),\n",
       " ('bookPrice', 'int', 'YES', '', None, ''),\n",
       " ('bookDate', 'date', 'YES', '', None, ''),\n",
       " ('bookStock', 'int', 'YES', '', None, ''),\n",
       " ('pubNo', 'varchar(10)', 'NO', 'MUL', None, ''))"
      ]
     },
     "execution_count": 41,
     "metadata": {},
     "output_type": "execute_result"
    }
   ],
   "source": [
    "sql = 'desc book'\n",
    "cursor.execute(sql)\n",
    "cursor.fetchall()"
   ]
  },
  {
   "cell_type": "code",
   "execution_count": 42,
   "id": "80b9d4e9-b803-4dd5-94d6-500d6229960f",
   "metadata": {},
   "outputs": [
    {
     "data": {
      "text/plain": [
       "(('1001', '데이터베이스 이론', '홍길동', 22000, datetime.date(2019, 11, 11), 5, '3'),\n",
       " ('1002', '자바 프로그래밍', '이몽룡', 25000, datetime.date(2021, 12, 12), 4, '1'),\n",
       " ('1003', '인터넷프로그래밍', '성춘향', 30000, datetime.date(2019, 2, 10), 10, '2'),\n",
       " ('1004', '안드로이드 프로그래밍', '변학도', 23000, datetime.date(2017, 10, 10), 2, '1'),\n",
       " ('1005', '안드로이드 앱', '강길동', 26000, datetime.date(2020, 1, 11), 5, '2'),\n",
       " ('1006',\n",
       "  'MS SQL SERVER 2014',\n",
       "  '박지성',\n",
       "  35000,\n",
       "  datetime.date(2020, 3, 25),\n",
       "  7,\n",
       "  '3'),\n",
       " ('1007', 'HTML & CSS', '손흥민', 18000, datetime.date(2023, 9, 30), 3, '1'),\n",
       " ('1008', 'MFC 입문', '류현진', 20000, datetime.date(2015, 12, 12), 5, '1'),\n",
       " ('1009', '안드로이드 게임 제작', '나길동', 33000, datetime.date(2018, 10, 31), 5, '2'),\n",
       " ('1010', 'C++객체지향 프로그래밍', '추신수', 24000, datetime.date(2019, 4, 20), 2, '3'),\n",
       " ('1011', 'JSP 웹 프로그래밍', '김연아', 27000, datetime.date(2020, 10, 23), 8, '1'),\n",
       " ('1012', '해커들의 해킹 기법', '손연재', 32000, datetime.date(2018, 7, 7), 1, '2'),\n",
       " ('1013', '자료구조', '홍길동', 19000, datetime.date(2020, 1, 20), 4, '1'),\n",
       " ('1014', '파이썬', '성춘향', 35000, datetime.date(2023, 9, 25), 5, '2'),\n",
       " ('1015', '자바스크립 & jQuery', '홍길동', 27000, datetime.date(2019, 10, 22), 2, '2'))"
      ]
     },
     "execution_count": 42,
     "metadata": {},
     "output_type": "execute_result"
    }
   ],
   "source": [
    "# book 테이블 데이터 조회\n",
    "sql = 'select * from book'\n",
    "cursor.execute(sql)\n",
    "result = cursor.fetchall()\n",
    "result"
   ]
  },
  {
   "cell_type": "code",
   "execution_count": 43,
   "id": "80c07e66-7007-4ec2-bfa1-5ae2f1a4e636",
   "metadata": {},
   "outputs": [
    {
     "data": {
      "text/plain": [
       "'1001'"
      ]
     },
     "execution_count": 43,
     "metadata": {},
     "output_type": "execute_result"
    }
   ],
   "source": [
    "result[0][0]"
   ]
  },
  {
   "cell_type": "code",
   "execution_count": 44,
   "id": "85615042-f5f9-4c94-8357-290f0f8a05d9",
   "metadata": {},
   "outputs": [
    {
     "name": "stdout",
     "output_type": "stream",
     "text": [
      "(('1001', '데이터베이스 이론', 22000), ('1002', '자바 프로그래밍', 25000), ('1003', '인터넷프로그래밍', 30000), ('1004', '안드로이드 프로그래밍', 23000), ('1005', '안드로이드 앱', 26000), ('1006', 'MS SQL SERVER 2014', 35000), ('1007', 'HTML & CSS', 18000), ('1008', 'MFC 입문', 20000), ('1009', '안드로이드 게임 제작', 33000), ('1010', 'C++객체지향 프로그래밍', 24000), ('1011', 'JSP 웹 프로그래밍', 27000), ('1012', '해커들의 해킹 기법', 32000), ('1013', '자료구조', 19000), ('1014', '파이썬', 35000), ('1015', '자바스크립 & jQuery', 27000))\n"
     ]
    }
   ],
   "source": [
    "# 도서번호, 도서명, 도서가격만 쿼리 실행\n",
    "sql = 'select bookNo, bookName, bookPrice from book';\n",
    "cursor.execute(sql)\n",
    "result = cursor.fetchall()\n",
    "print(result)"
   ]
  },
  {
   "cell_type": "code",
   "execution_count": 45,
   "id": "1c521365-6806-4a9c-96ac-2d63d35ecaff",
   "metadata": {},
   "outputs": [
    {
     "name": "stdout",
     "output_type": "stream",
     "text": [
      "(('1003', '인터넷프로그래밍', 30000), ('1006', 'MS SQL SERVER 2014', 35000), ('1009', '안드로이드 게임 제작', 33000), ('1012', '해커들의 해킹 기법', 32000), ('1014', '파이썬', 35000))\n"
     ]
    }
   ],
   "source": [
    "# 도서 가격이 30,000원 이상인 도서의 도서번호, 도서명, 가격 추출\n",
    "sql = 'select bookNo, bookName, bookPrice from book where bookPrice >= 30000'\n",
    "cursor.execute(sql)\n",
    "result = cursor.fetchall()\n",
    "print(result)"
   ]
  },
  {
   "cell_type": "code",
   "execution_count": 46,
   "id": "b9892788-8669-459b-8c6a-8a8ea4f658c3",
   "metadata": {},
   "outputs": [
    {
     "name": "stdout",
     "output_type": "stream",
     "text": [
      "(('1003', '인터넷프로그래밍', 30000), ('1006', 'MS SQL SERVER 2014', 35000), ('1009', '안드로이드 게임 제작', 33000), ('1012', '해커들의 해킹 기법', 32000), ('1014', '파이썬', 35000))\n"
     ]
    }
   ],
   "source": [
    "sql = 'select bookNo, bookName, bookPrice from book where bookPrice >= 30000'\n",
    "cursor.execute(sql)\n",
    "result = cursor.fetchall()\n",
    "print(result)"
   ]
  },
  {
   "cell_type": "code",
   "execution_count": 71,
   "id": "13f340f3-d24c-4d72-85e8-4219da8527bf",
   "metadata": {},
   "outputs": [
    {
     "name": "stdout",
     "output_type": "stream",
     "text": [
      "1001 데이터베이스 이론 홍길동 22000 2019-11-11 5 3 \n",
      "1002 자바 프로그래밍 이몽룡 25000 2021-12-12 4 1 \n",
      "1003 인터넷프로그래밍 성춘향 30000 2019-02-10 10 2 \n",
      "1004 안드로이드 프로그래밍 변학도 23000 2017-10-10 2 1 \n",
      "1005 안드로이드 앱 강길동 26000 2020-01-11 5 2 \n",
      "1006 MS SQL SERVER 2014 박지성 35000 2020-03-25 7 3 \n",
      "1007 HTML & CSS 손흥민 18000 2023-09-30 3 1 \n",
      "1008 MFC 입문 류현진 20000 2015-12-12 5 1 \n",
      "1009 안드로이드 게임 제작 나길동 33000 2018-10-31 5 2 \n",
      "1010 C++객체지향 프로그래밍 추신수 24000 2019-04-20 2 3 \n",
      "1011 JSP 웹 프로그래밍 김연아 27000 2020-10-23 8 1 \n",
      "1012 해커들의 해킹 기법 손연재 32000 2018-07-07 1 2 \n",
      "1013 자료구조 홍길동 19000 2020-01-20 4 1 \n",
      "1014 파이썬 성춘향 35000 2023-09-25 5 2 \n",
      "1015 자바스크립 & jQuery 홍길동 27000 2019-10-22 2 2 \n",
      "1016 DB 이길동 23000 2022-11-11 5 1 \n",
      "1017 DB 이길동 23000 2022-11-11 5 1 \n",
      "1018 sql 이길동 30000 2023-09-27 6 2 \n"
     ]
    }
   ],
   "source": [
    "for re in result:\n",
    "    for r in re:\n",
    "        print(r, end=\" \")\n",
    "    print()"
   ]
  },
  {
   "cell_type": "code",
   "execution_count": 23,
   "id": "9f8040e9-9eea-4e2d-a5e1-8abbdcc723ed",
   "metadata": {},
   "outputs": [],
   "source": [
    "cursor.close()\n",
    "conn.close()"
   ]
  },
  {
   "cell_type": "code",
   "execution_count": 49,
   "id": "4a214d3e-7662-4be0-a4a6-f9a40821795a",
   "metadata": {},
   "outputs": [],
   "source": [
    "# for i in range(len(result)):\n",
    "#     print(result[i][0].strftime(\"%Y-%m-%d\"))"
   ]
  },
  {
   "cell_type": "code",
   "execution_count": null,
   "id": "bbd056a3-1a9a-4882-a5f7-fdf4d086de49",
   "metadata": {},
   "outputs": [],
   "source": [
    "# 연습문제 \n",
    "# 판매된 도서 중에서 '도서출판 강남'에서 출간된 도서에 대하여\n",
    "# 고객명, 주문일, 도서명, 주문수량, 출판사명 출력\n",
    "# 고객명 오름차순 정렬"
   ]
  },
  {
   "cell_type": "code",
   "execution_count": null,
   "id": "83dcb4bd-10a3-4f05-9ae1-00cda59883cc",
   "metadata": {},
   "outputs": [],
   "source": [
    "sql = \"\"\"\n",
    "    'select clientName, bsDate, bookName, bsQty, pubName \n",
    "     from bookSale\n",
    "         inner join \n",
    "\n",
    "    where pubName = '%강남%'\n",
    "\"\"\"\n",
    "\n",
    "cursor.execute(sql)\n",
    "result = cursor.fetchall()\n",
    "print(result)"
   ]
  },
  {
   "cell_type": "code",
   "execution_count": 50,
   "id": "d3ec1b20-fd61-4a0a-87fc-768eda0297a9",
   "metadata": {},
   "outputs": [],
   "source": [
    "# insert"
   ]
  },
  {
   "cell_type": "code",
   "execution_count": 51,
   "id": "303758c1-c4d5-401e-96e0-a53b54f57c52",
   "metadata": {},
   "outputs": [],
   "source": [
    "# 데이터 입력 받아서 book 테이블에 저장"
   ]
  },
  {
   "cell_type": "code",
   "execution_count": 58,
   "id": "52cc02d5-a69d-4bba-87cf-758cbe96aacf",
   "metadata": {},
   "outputs": [
    {
     "name": "stdin",
     "output_type": "stream",
     "text": [
      "도서번호 입력 :  1017\n",
      "도서명 입력 :  DB\n",
      "저자 입력 :  이길동\n",
      "가격 입력 :  23000\n",
      "출판일 입력 :  2022-11-11\n",
      "재고 입력 :  5\n",
      "출판서번호 입력 :  1\n"
     ]
    }
   ],
   "source": [
    "bookNo = input(\"도서번호 입력 : \")\n",
    "bookName = input(\"도서명 입력 : \")\n",
    "bookAuthor = input(\"저자 입력 : \")\n",
    "bookPrice = input(\"가격 입력 : \")\n",
    "bookDate = input(\"출판일 입력 : \")\n",
    "bookStock = input(\"재고 입력 : \")\n",
    "pubNo = input(\"출판서번호 입력 : \")"
   ]
  },
  {
   "cell_type": "code",
   "execution_count": 59,
   "id": "8bfbce2b-3041-4a90-9da5-eee2a497d24e",
   "metadata": {},
   "outputs": [
    {
     "data": {
      "text/plain": [
       "('1017', 'DB', '이길동', '23000', '2022-11-11', '5', '1')"
      ]
     },
     "execution_count": 59,
     "metadata": {},
     "output_type": "execute_result"
    }
   ],
   "source": [
    "bookNo, bookName, bookAuthor, bookPrice, bookDate, bookStock, pubNo"
   ]
  },
  {
   "cell_type": "code",
   "execution_count": 60,
   "id": "cf51a1e7-5253-47dc-8c0b-d0619036892a",
   "metadata": {},
   "outputs": [],
   "source": [
    "# INSERT 방법1\n",
    "sql = \"insert into book(bookNo, bookName, bookAuthor, bookPrice, bookDate, bookStock, pubNo) value ('\"\\\n",
    "        + bookNo + \"', '\" \\\n",
    "        + bookName + \"', '\" \\\n",
    "        + bookAuthor + \"', \" \\\n",
    "        + bookPrice + \", '\" \\\n",
    "        + bookDate + \"', \" \\\n",
    "        + bookStock + \", '\" \\\n",
    "        + pubNo + \"')\"\n",
    "\n",
    "cursor.execute(sql)\n",
    "conn.commit()"
   ]
  },
  {
   "cell_type": "code",
   "execution_count": 61,
   "id": "b72be85d-2893-4c8d-8a2f-8b62ebf637cc",
   "metadata": {},
   "outputs": [
    {
     "name": "stdin",
     "output_type": "stream",
     "text": [
      "도서번호 입력 :  1018\n",
      "도서명 입력 :  sql\n",
      "저자 입력 :  이길동\n",
      "가격 입력 :  30000\n",
      "출판일 입력 :  2023-09-27\n",
      "재고 입력 :  6\n",
      "출판서번호 입력 :  2\n"
     ]
    }
   ],
   "source": [
    "bookNo = input(\"도서번호 입력 : \")\n",
    "bookName = input(\"도서명 입력 : \")\n",
    "bookAuthor = input(\"저자 입력 : \")\n",
    "bookPrice = input(\"가격 입력 : \")\n",
    "bookDate = input(\"출판일 입력 : \")\n",
    "bookStock = input(\"재고 입력 : \")\n",
    "pubNo = input(\"출판서번호 입력 : \")"
   ]
  },
  {
   "cell_type": "code",
   "execution_count": 66,
   "id": "b0712159-af27-48d0-bf6e-df8bd0fbf3f8",
   "metadata": {},
   "outputs": [],
   "source": [
    "# # INSERT 방법2\n",
    "\n",
    "# # 위치한 데이터 타입 지정해 놓고\n",
    "# sql = \"insert into book values(%s, %s, %s, %s, %s, %s, %s)\"\n",
    "\n",
    "# # 실제 전달될 값\n",
    "# values = (bookNo, bookName, bookAuthor, bookPrice, bookDate, bookStock, pubNo)\n",
    "\n",
    "# # 값도 같이 전달\n",
    "# cursor.execute(sql, values)\n",
    "# conn.commit()"
   ]
  },
  {
   "cell_type": "code",
   "execution_count": 73,
   "id": "6228557e-256c-4081-9b24-d2ba5fd37116",
   "metadata": {},
   "outputs": [
    {
     "name": "stdout",
     "output_type": "stream",
     "text": [
      "(('1001', '데이터베이스 이론', '홍길동', 22000, datetime.date(2019, 11, 11), 5, '3'), ('1002', '자바 프로그래밍', '이몽룡', 25000, datetime.date(2021, 12, 12), 4, '1'), ('1003', '인터넷프로그래밍', '성춘향', 30000, datetime.date(2019, 2, 10), 10, '2'), ('1004', '안드로이드 프로그래밍', '변학도', 23000, datetime.date(2017, 10, 10), 2, '1'), ('1005', '안드로이드 앱', '강길동', 26000, datetime.date(2020, 1, 11), 5, '2'), ('1006', 'MS SQL SERVER 2014', '박지성', 35000, datetime.date(2020, 3, 25), 7, '3'), ('1007', 'HTML & CSS', '손흥민', 18000, datetime.date(2023, 9, 30), 3, '1'), ('1008', 'MFC 입문', '류현진', 20000, datetime.date(2015, 12, 12), 5, '1'), ('1009', '안드로이드 게임 제작', '나길동', 33000, datetime.date(2018, 10, 31), 5, '2'), ('1010', 'C++객체지향 프로그래밍', '추신수', 24000, datetime.date(2019, 4, 20), 2, '3'), ('1011', 'JSP 웹 프로그래밍', '김연아', 27000, datetime.date(2020, 10, 23), 8, '1'), ('1012', '해커들의 해킹 기법', '손연재', 32000, datetime.date(2018, 7, 7), 1, '2'), ('1013', '자료구조', '홍길동', 19000, datetime.date(2020, 1, 20), 4, '1'), ('1014', '파이썬', '성춘향', 35000, datetime.date(2023, 9, 25), 5, '2'), ('1015', '자바스크립 & jQuery', '홍길동', 27000, datetime.date(2019, 10, 22), 2, '2'), ('1016', 'DB', '이길동', 23000, datetime.date(2022, 11, 11), 5, '1'), ('1017', 'DB', '이길동', 23000, datetime.date(2022, 11, 11), 5, '1'), ('1018', 'sql', '이길동', 30000, datetime.date(2023, 9, 27), 6, '2'))\n"
     ]
    }
   ],
   "source": [
    "sql = 'select * from book'\n",
    "cursor.execute(sql)\n",
    "result = cursor.fetchall()\n",
    "print(result)"
   ]
  },
  {
   "cell_type": "code",
   "execution_count": 69,
   "id": "f32fb51d-2e9b-475a-9e1e-5d1b232b8ebf",
   "metadata": {},
   "outputs": [],
   "source": [
    "# UPDATE\n",
    "# 주의! : commit"
   ]
  },
  {
   "cell_type": "code",
   "execution_count": 70,
   "id": "37531cb3-0248-4f46-84e8-2ccd1aabcf83",
   "metadata": {},
   "outputs": [],
   "source": [
    "# 고객명이 '메시'인 고객의 전화번호 값 수정 : 010-1111-1111을 010-1234-1234 로 변경"
   ]
  },
  {
   "cell_type": "code",
   "execution_count": 75,
   "id": "d3de6e53-8e8b-4742-8e66-0104b147836e",
   "metadata": {},
   "outputs": [],
   "source": [
    "sql = \"\"\"\n",
    "    update client set clientPhone='010-1234-1234' where clientName='메시'\n",
    "\"\"\"\n",
    "cursor.execute(sql)\n",
    "conn.commit()"
   ]
  },
  {
   "cell_type": "code",
   "execution_count": 77,
   "id": "6e0dd2d2-df46-4f12-9051-4271cd637534",
   "metadata": {},
   "outputs": [
    {
     "name": "stdout",
     "output_type": "stream",
     "text": [
      "(('1', '메시', '010-1234-1234', '서울시', datetime.date(1987, 6, 24), '여행', '남'), ('2', '호날두', '010-2222-2222', '천안', datetime.date(1984, 2, 5), '', '남'), ('3', '샤라포바', '010-3333-3333', '제주', datetime.date(1987, 4, 19), '', '여'), ('4', '베컴', '010-4444-4444', '안양', datetime.date(1994, 5, 2), '영화', '남'), ('5', '네이마르', '010-5555-5555', '수원', datetime.date(1992, 2, 5), '게임', '남'), ('6', '윌리엄스', '010-6666-6666', '서울', datetime.date(1981, 9, 26), '테니스', '여'), ('7', '옴바페', '010-7777-7777', '천안', datetime.date(1991, 1, 7), '', '남'), ('8', '살라', '010-8888-8888', '부산', datetime.date(1982, 4, 22), '', '남'))\n"
     ]
    }
   ],
   "source": [
    "sql = 'select * from client'\n",
    "cursor.execute(sql)\n",
    "result = cursor.fetchall()\n",
    "print(result)"
   ]
  },
  {
   "cell_type": "code",
   "execution_count": 78,
   "id": "db9a7085-f376-44c6-8230-024f02c9833a",
   "metadata": {},
   "outputs": [
    {
     "name": "stdout",
     "output_type": "stream",
     "text": [
      "1 메시 010-1234-1234 서울시 1987-06-24 여행 남 \n",
      "2 호날두 010-2222-2222 천안 1984-02-05  남 \n",
      "3 샤라포바 010-3333-3333 제주 1987-04-19  여 \n",
      "4 베컴 010-4444-4444 안양 1994-05-02 영화 남 \n",
      "5 네이마르 010-5555-5555 수원 1992-02-05 게임 남 \n",
      "6 윌리엄스 010-6666-6666 서울 1981-09-26 테니스 여 \n",
      "7 옴바페 010-7777-7777 천안 1991-01-07  남 \n",
      "8 살라 010-8888-8888 부산 1982-04-22  남 \n"
     ]
    }
   ],
   "source": [
    "for re in result:\n",
    "    for r in re:\n",
    "        print(r, end=\" \")\n",
    "    print()"
   ]
  },
  {
   "cell_type": "code",
   "execution_count": 81,
   "id": "50d49cdc-fe7f-41e4-84d5-4ff279599e28",
   "metadata": {},
   "outputs": [
    {
     "name": "stdin",
     "output_type": "stream",
     "text": [
      "수정할 도서번호 입력 :  1001\n",
      "수정할 도서명 입력 :  데이터베이스 이론 및 실기\n",
      "수정할 저자 입력 :  홍길동\n",
      "수정할 가격 입력 :  25000\n",
      "수정할 출판일 입력 :  2019-11-11\n",
      "수정할 재고 입력 :  7\n",
      "수정할 출판서번호 입력 :  3\n"
     ]
    }
   ],
   "source": [
    "# 입력된 값으로 데이터 수정\n",
    "# 수정하고자 하는 기본키 값을 입력받고 \n",
    "# 수정할 데이터 입력\n",
    "bookNo = input(\"수정할 도서번호 입력 : \")\n",
    "bookName = input(\"수정할 도서명 입력 : \")\n",
    "bookAuthor = input(\"수정할 저자 입력 : \")\n",
    "bookPrice = input(\"수정할 가격 입력 : \")\n",
    "bookDate = input(\"수정할 출판일 입력 : \")\n",
    "bookStock = input(\"수정할 재고 입력 : \")\n",
    "pubNo = input(\"수정할 출판서번호 입력 : \")\n",
    "\n",
    "# '1001', '데이터베이스 이론', '홍길동', 22000, datetime.date(2019, 11, 11), 5, '3'\n",
    "# '데이터베이스 이론 및 실기', 25000, 재고 7"
   ]
  },
  {
   "cell_type": "code",
   "execution_count": 80,
   "id": "3c6b9809-a7c9-4b2d-8a0a-0c85030f6e2a",
   "metadata": {},
   "outputs": [],
   "source": [
    "# update 테이블명 set 키(열)=값 ... where 키(열)=값"
   ]
  },
  {
   "cell_type": "code",
   "execution_count": 83,
   "id": "33bd996a-13a8-4a7d-9cda-eeea05e32257",
   "metadata": {},
   "outputs": [],
   "source": [
    "sql = \"update book set bookName=%s, bookAuthor=%s, bookPrice=%s, \" \\\n",
    "        + \"bookDate=%s, bookStock=%s, pubNo=%s where bookNo=%s\"\n",
    "\n",
    "# 실제 전달될 값\n",
    "values = (bookName, bookAuthor, bookPrice, bookDate, bookStock, pubNo, bookNo)\n",
    "\n",
    "# 값도 같이 전달\n",
    "cursor.execute(sql, values)\n",
    "conn.commit()"
   ]
  },
  {
   "cell_type": "code",
   "execution_count": 88,
   "id": "fd38c003-63e2-4d38-b309-6d6eb8d7b201",
   "metadata": {},
   "outputs": [
    {
     "name": "stdout",
     "output_type": "stream",
     "text": [
      "1001, 데이터베이스 이론 및 실기, 홍길동, 25000, 2019-11-11, 7, 3, \n",
      "1002, 자바 프로그래밍, 이몽룡, 25000, 2021-12-12, 4, 1, \n",
      "1003, 인터넷프로그래밍, 성춘향, 30000, 2019-02-10, 10, 2, \n",
      "1004, 안드로이드 프로그래밍, 변학도, 23000, 2017-10-10, 2, 1, \n",
      "1005, 안드로이드 앱, 강길동, 26000, 2020-01-11, 5, 2, \n",
      "1006, MS SQL SERVER 2014, 박지성, 35000, 2020-03-25, 7, 3, \n",
      "1007, HTML & CSS, 손흥민, 18000, 2023-09-30, 3, 1, \n",
      "1008, MFC 입문, 류현진, 20000, 2015-12-12, 5, 1, \n",
      "1009, 안드로이드 게임 제작, 나길동, 33000, 2018-10-31, 5, 2, \n",
      "1010, C++객체지향 프로그래밍, 추신수, 24000, 2019-04-20, 2, 3, \n",
      "1011, JSP 웹 프로그래밍, 김연아, 27000, 2020-10-23, 8, 1, \n",
      "1012, 해커들의 해킹 기법, 손연재, 32000, 2018-07-07, 1, 2, \n",
      "1013, 자료구조, 홍길동, 19000, 2020-01-20, 4, 1, \n",
      "1014, 파이썬, 성춘향, 35000, 2023-09-25, 5, 2, \n",
      "1015, 자바스크립 & jQuery, 홍길동, 27000, 2019-10-22, 2, 2, \n",
      "1016, DB, 이길동, 23000, 2022-11-11, 5, 1, \n",
      "1017, DB, 이길동, 23000, 2022-11-11, 5, 1, \n",
      "1018, sql, 이길동, 30000, 2023-09-27, 6, 2, \n"
     ]
    }
   ],
   "source": [
    "sql = 'select * from book'\n",
    "cursor.execute(sql)\n",
    "result = cursor.fetchall()\n",
    "for re in result:\n",
    "    for r in re:\n",
    "        print(r, end=\", \")\n",
    "    print()"
   ]
  },
  {
   "cell_type": "code",
   "execution_count": 89,
   "id": "af268362-9af6-48ba-b056-259c1ec7b2de",
   "metadata": {},
   "outputs": [],
   "source": [
    "# DELETE \n",
    "# 주의! : commit "
   ]
  },
  {
   "cell_type": "code",
   "execution_count": 90,
   "id": "7bbc1676-3035-450a-bcfa-6286e53fdb1c",
   "metadata": {},
   "outputs": [],
   "source": [
    "sql = \"delete from book where bookNo = '1018'\"\n",
    "cursor.execute(sql)\n",
    "conn.commit()"
   ]
  },
  {
   "cell_type": "code",
   "execution_count": 91,
   "id": "8e92c6bb-b2c7-42c0-8681-50e46bb96d0e",
   "metadata": {},
   "outputs": [
    {
     "name": "stdout",
     "output_type": "stream",
     "text": [
      "1001, 데이터베이스 이론 및 실기, 홍길동, 25000, 2019-11-11, 7, 3, \n",
      "1002, 자바 프로그래밍, 이몽룡, 25000, 2021-12-12, 4, 1, \n",
      "1003, 인터넷프로그래밍, 성춘향, 30000, 2019-02-10, 10, 2, \n",
      "1004, 안드로이드 프로그래밍, 변학도, 23000, 2017-10-10, 2, 1, \n",
      "1005, 안드로이드 앱, 강길동, 26000, 2020-01-11, 5, 2, \n",
      "1006, MS SQL SERVER 2014, 박지성, 35000, 2020-03-25, 7, 3, \n",
      "1007, HTML & CSS, 손흥민, 18000, 2023-09-30, 3, 1, \n",
      "1008, MFC 입문, 류현진, 20000, 2015-12-12, 5, 1, \n",
      "1009, 안드로이드 게임 제작, 나길동, 33000, 2018-10-31, 5, 2, \n",
      "1010, C++객체지향 프로그래밍, 추신수, 24000, 2019-04-20, 2, 3, \n",
      "1011, JSP 웹 프로그래밍, 김연아, 27000, 2020-10-23, 8, 1, \n",
      "1012, 해커들의 해킹 기법, 손연재, 32000, 2018-07-07, 1, 2, \n",
      "1013, 자료구조, 홍길동, 19000, 2020-01-20, 4, 1, \n",
      "1014, 파이썬, 성춘향, 35000, 2023-09-25, 5, 2, \n",
      "1015, 자바스크립 & jQuery, 홍길동, 27000, 2019-10-22, 2, 2, \n",
      "1016, DB, 이길동, 23000, 2022-11-11, 5, 1, \n",
      "1017, DB, 이길동, 23000, 2022-11-11, 5, 1, \n"
     ]
    }
   ],
   "source": [
    "sql = 'select * from book'\n",
    "cursor.execute(sql)\n",
    "result = cursor.fetchall()\n",
    "for re in result:\n",
    "    for r in re:\n",
    "        print(r, end=\", \")\n",
    "    print()"
   ]
  },
  {
   "cell_type": "code",
   "execution_count": 92,
   "id": "10fdf1cf-de36-4cd2-b240-c5dcdf2e7e5c",
   "metadata": {},
   "outputs": [],
   "source": [
    "# 삭제할 도서번호 입력 받아서 삭제"
   ]
  },
  {
   "cell_type": "code",
   "execution_count": 100,
   "id": "cfb572f9-9cd9-49eb-bf75-fb0375d23116",
   "metadata": {},
   "outputs": [
    {
     "name": "stdin",
     "output_type": "stream",
     "text": [
      "삭제할 도서번호 입력 :  1017\n"
     ]
    }
   ],
   "source": [
    "bookNo = input(\"삭제할 도서번호 입력 : \")\n",
    "sql = 'delete from book where bookNo=\"%s\"'\n",
    "cursor.execute(sql, bookNo)\n",
    "conn.commit()"
   ]
  },
  {
   "cell_type": "code",
   "execution_count": 101,
   "id": "57abc981-c37e-4de0-a62c-f961a45af85c",
   "metadata": {},
   "outputs": [
    {
     "name": "stdout",
     "output_type": "stream",
     "text": [
      "1001, 데이터베이스 이론 및 실기, 홍길동, 25000, 2019-11-11, 7, 3, \n",
      "1002, 자바 프로그래밍, 이몽룡, 25000, 2021-12-12, 4, 1, \n",
      "1003, 인터넷프로그래밍, 성춘향, 30000, 2019-02-10, 10, 2, \n",
      "1004, 안드로이드 프로그래밍, 변학도, 23000, 2017-10-10, 2, 1, \n",
      "1005, 안드로이드 앱, 강길동, 26000, 2020-01-11, 5, 2, \n",
      "1006, MS SQL SERVER 2014, 박지성, 35000, 2020-03-25, 7, 3, \n",
      "1007, HTML & CSS, 손흥민, 18000, 2023-09-30, 3, 1, \n",
      "1008, MFC 입문, 류현진, 20000, 2015-12-12, 5, 1, \n",
      "1009, 안드로이드 게임 제작, 나길동, 33000, 2018-10-31, 5, 2, \n",
      "1010, C++객체지향 프로그래밍, 추신수, 24000, 2019-04-20, 2, 3, \n",
      "1011, JSP 웹 프로그래밍, 김연아, 27000, 2020-10-23, 8, 1, \n",
      "1012, 해커들의 해킹 기법, 손연재, 32000, 2018-07-07, 1, 2, \n",
      "1013, 자료구조, 홍길동, 19000, 2020-01-20, 4, 1, \n",
      "1014, 파이썬, 성춘향, 35000, 2023-09-25, 5, 2, \n",
      "1015, 자바스크립 & jQuery, 홍길동, 27000, 2019-10-22, 2, 2, \n",
      "1017, DB, 이길동, 23000, 2022-11-11, 5, 1, \n"
     ]
    }
   ],
   "source": [
    "sql = 'select * from book'\n",
    "cursor.execute(sql)\n",
    "result = cursor.fetchall()\n",
    "for re in result:\n",
    "    for r in re:\n",
    "        print(r, end=\", \")\n",
    "    print()"
   ]
  },
  {
   "cell_type": "code",
   "execution_count": 98,
   "id": "16b31b5a-1bf0-487b-9f32-77a1c2df37d5",
   "metadata": {},
   "outputs": [
    {
     "name": "stdin",
     "output_type": "stream",
     "text": [
      "삭제할 도서번호 입력 :  1016\n"
     ]
    }
   ],
   "source": [
    "bookNo = input(\"삭제할 도서번호 입력 : \")\n",
    "sql = 'delete from book where bookNo= ' + bookNo\n",
    "cursor.execute(sql)\n",
    "conn.commit()"
   ]
  },
  {
   "cell_type": "code",
   "execution_count": 106,
   "id": "6e2ed3c2-a4a8-496d-ac90-720e480d724f",
   "metadata": {},
   "outputs": [
    {
     "name": "stdout",
     "output_type": "stream",
     "text": [
      "1001, 데이터베이스 이론 및 실기, 홍길동, 25000, 2019-11-11, 7, 3, \n",
      "1002, 자바 프로그래밍, 이몽룡, 25000, 2021-12-12, 4, 1, \n",
      "1003, 인터넷프로그래밍, 성춘향, 30000, 2019-02-10, 10, 2, \n",
      "1004, 안드로이드 프로그래밍, 변학도, 23000, 2017-10-10, 2, 1, \n",
      "1005, 안드로이드 앱, 강길동, 26000, 2020-01-11, 5, 2, \n",
      "1006, MS SQL SERVER 2014, 박지성, 35000, 2020-03-25, 7, 3, \n",
      "1007, HTML & CSS, 손흥민, 18000, 2023-09-30, 3, 1, \n",
      "1008, MFC 입문, 류현진, 20000, 2015-12-12, 5, 1, \n",
      "1009, 안드로이드 게임 제작, 나길동, 33000, 2018-10-31, 5, 2, \n",
      "1010, C++객체지향 프로그래밍, 추신수, 24000, 2019-04-20, 2, 3, \n",
      "1011, JSP 웹 프로그래밍, 김연아, 27000, 2020-10-23, 8, 1, \n",
      "1012, 해커들의 해킹 기법, 손연재, 32000, 2018-07-07, 1, 2, \n",
      "1013, 자료구조, 홍길동, 19000, 2020-01-20, 4, 1, \n",
      "1014, 파이썬, 성춘향, 35000, 2023-09-25, 5, 2, \n",
      "1015, 자바스크립 & jQuery, 홍길동, 27000, 2019-10-22, 2, 2, \n",
      "1017, DB, 이길동, 23000, 2022-11-11, 5, 1, \n"
     ]
    }
   ],
   "source": [
    "sql = 'select * from book'\n",
    "cursor.execute(sql)\n",
    "result = cursor.fetchall()\n",
    "for re in result:\n",
    "    for r in re:\n",
    "        print(r, end=\", \")\n",
    "    print()"
   ]
  },
  {
   "cell_type": "code",
   "execution_count": 102,
   "id": "17864aa6-46b1-4c66-83e5-3f42ea45141d",
   "metadata": {},
   "outputs": [],
   "source": [
    "# 저장 프로시저 호출"
   ]
  },
  {
   "cell_type": "code",
   "execution_count": 108,
   "id": "72beb8be-cb93-43cf-a00b-d08fa5b055b1",
   "metadata": {},
   "outputs": [
    {
     "data": {
      "text/plain": [
       "(('1', '메시', datetime.date(1987, 6, 24), '1980년대생'),)"
      ]
     },
     "execution_count": 108,
     "metadata": {},
     "output_type": "execute_result"
    }
   ],
   "source": [
    "# 매개변수가 있는 경우 : IN 매개변수만 있는 경우\n",
    "\n",
    "cursor.callproc(\"clientAgeCheckProc\", \"1\")\n",
    "result = cursor.fetchall()\n",
    "result"
   ]
  },
  {
   "cell_type": "code",
   "execution_count": 110,
   "id": "70b93133-327f-4c60-ae96-69b49b0ac79d",
   "metadata": {},
   "outputs": [
    {
     "data": {
      "text/plain": [
       "(('4', '베컴', datetime.date(1994, 5, 2), '1990년대생'),)"
      ]
     },
     "execution_count": 110,
     "metadata": {},
     "output_type": "execute_result"
    }
   ],
   "source": [
    "sql = \"CALL clientAgeCheckProc('4')\"\n",
    "cursor.execute(sql)\n",
    "result = cursor.fetchall()\n",
    "result"
   ]
  },
  {
   "cell_type": "code",
   "execution_count": 111,
   "id": "b96ca358-1442-4d3f-ba3c-22cdc2986c51",
   "metadata": {},
   "outputs": [],
   "source": [
    "# 매개변수가 있는 경우 : IN / OUT 매개변수만 있는 경우"
   ]
  },
  {
   "cell_type": "code",
   "execution_count": 118,
   "id": "e60dd4b1-ae72-4520-b2a0-e7977d5895e6",
   "metadata": {},
   "outputs": [],
   "source": [
    "# 프로시저명 : bookPriceCountProc;\n",
    "# 프로시저 호출\n",
    "\n",
    "# call bookPriceCountProc(30000, @bookCount);\n",
    "# select @bookCount;\n",
    "\n",
    "# sql = \"call bookPriceCountProc(30000, @bookCount)\"\n",
    "# cursor.execute(sql)\n",
    "# sql = \"select @bookCount\"\n",
    "# cursor.execute(sql)\n",
    "\n",
    "# result = cursor.fetchall()\n",
    "# result"
   ]
  },
  {
   "cell_type": "code",
   "execution_count": null,
   "id": "fbab46e1-0307-48fc-a9f3-f24d7964b593",
   "metadata": {},
   "outputs": [],
   "source": []
  },
  {
   "cell_type": "code",
   "execution_count": null,
   "id": "42e354c2-0db1-4d82-b12d-df08749783ea",
   "metadata": {},
   "outputs": [],
   "source": []
  },
  {
   "cell_type": "code",
   "execution_count": null,
   "id": "4bff80f5-f9fc-4e5c-acd5-8f7ec028f086",
   "metadata": {},
   "outputs": [],
   "source": []
  },
  {
   "cell_type": "code",
   "execution_count": null,
   "id": "50a73b09-c6f4-4f92-9a6c-67b8fbf5c391",
   "metadata": {},
   "outputs": [],
   "source": []
  },
  {
   "cell_type": "code",
   "execution_count": 119,
   "id": "32952dea-b17f-489c-8707-d2c103a3c908",
   "metadata": {},
   "outputs": [],
   "source": [
    "cursor.close()\n",
    "conn.close()"
   ]
  },
  {
   "cell_type": "code",
   "execution_count": null,
   "id": "0a32d384-26d9-454a-b47d-a52e69bfc4e1",
   "metadata": {},
   "outputs": [],
   "source": []
  }
 ],
 "metadata": {
  "kernelspec": {
   "display_name": "Python 3 (ipykernel)",
   "language": "python",
   "name": "python3"
  },
  "language_info": {
   "codemirror_mode": {
    "name": "ipython",
    "version": 3
   },
   "file_extension": ".py",
   "mimetype": "text/x-python",
   "name": "python",
   "nbconvert_exporter": "python",
   "pygments_lexer": "ipython3",
   "version": "3.11.5"
  },
  "widgets": {
   "application/vnd.jupyter.widget-state+json": {
    "state": {},
    "version_major": 2,
    "version_minor": 0
   }
  }
 },
 "nbformat": 4,
 "nbformat_minor": 5
}
