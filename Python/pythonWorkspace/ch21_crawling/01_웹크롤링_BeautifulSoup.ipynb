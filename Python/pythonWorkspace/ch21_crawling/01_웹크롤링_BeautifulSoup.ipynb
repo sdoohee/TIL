{
 "cells": [
  {
   "cell_type": "markdown",
   "id": "75a81317-7a5d-43cf-8ffe-ca37669dfa64",
   "metadata": {},
   "source": [
    "### \n",
    "웹 크롤링"
   ]
  },
  {
   "cell_type": "markdown",
   "id": "0e1ecab5-3b5e-423f-9ea9-93ac619a2ae2",
   "metadata": {},
   "source": [
    "웹 크롤링 (web crawling)\r",
    "- \n",
    "자동화 봇(bot)인 웹 크롤러가 정해진 규칙에 따라 복수 개의 웹 페이지를 브라우징 하는 행위- \r\n",
    "크롤러 : 조직적, 자동화된 방법으로 월드와이드 웹을 탐색하는 컴퓨터 프로그램이다.(출처: 위키백과\n",
    ")\r\n",
    "파싱 (parsin- g)\r\n",
    "받아온 데이터에서 필요로 하는 내용을 추출하\n",
    "는 것\r\n",
    "웹 스크래핑(웹 스크레이핑)(web scrap- ing)\r\n",
    "웹 사이트 상에서 원하는 부분에 위치한 정보를 컴퓨터로 하여금 자동으로 추출하여 수집하는 기술"
   ]
  },
  {
   "cell_type": "markdown",
   "id": "ea211167-6d11-4ae2-b761-c2a6474ecac4",
   "metadata": {},
   "source": [
    "웹 크롤링\n",
    "(1) html 문서 내용 읽어오기\n",
    "- url에 접속\n",
    "  - urllib 패키지의 urlopen() 함수 사용\n",
    "  - urllib 패키지 : url(인터넷 주소)을 넣고 실행하면 데이터를 텍스트로 형태로 반환\n",
    "- html 문서  전체 내용 읽어오기\n",
    "   -  read() 함수 사용"
   ]
  },
  {
   "cell_type": "markdown",
   "id": "eae8ee94-fdb2-4740-ae56-cdfdd4ffbf17",
   "metadata": {},
   "source": [
    "파싱\n",
    "- html 문서에서 원하는 내용 추출\n",
    "  - 필요한 내용만 추출\n",
    "  - BeautifulSoup 라이브러리 사용\n",
    "    - 데이터를  추출하는데 필요한 기능이 들어 있는라이브러리 (파싱 라이브러리)\n",
    "    - find() / findAll() / find_all() 함수\n",
    "    - select() / select_one()"
   ]
  },
  {
   "cell_type": "code",
   "execution_count": null,
   "id": "5283eb4b-69c5-46fb-ac1f-dc277ec734a3",
   "metadata": {},
   "outputs": [],
   "source": []
  },
  {
   "cell_type": "code",
   "execution_count": 15,
   "id": "89f0a65f-e4c5-4401-a540-df7837c5e1be",
   "metadata": {},
   "outputs": [],
   "source": [
    "# 한 셀에서 여러 개의 결과값 출력\n",
    "from IPython.core.interactiveshell import InteractiveShell\n",
    "InteractiveShell.ast_node_interactivity=\"all\""
   ]
  },
  {
   "cell_type": "markdown",
   "id": "1179a452-e681-4f61-9f61-62e0d25b91e1",
   "metadata": {},
   "source": [
    "### urllib 패키지 사용한 소스 추출"
   ]
  },
  {
   "cell_type": "code",
   "execution_count": 16,
   "id": "473eb43e-c553-4ba5-962a-be8b9467e9c9",
   "metadata": {},
   "outputs": [],
   "source": [
    "import ssl\n",
    "from urllib.request import urlopen\n",
    "\n",
    "ssl._create_default_https_context = ssl._create_unverified_context"
   ]
  },
  {
   "cell_type": "code",
   "execution_count": 17,
   "id": "17cd7128-ecb5-43cd-8aac-1298ee389b52",
   "metadata": {},
   "outputs": [],
   "source": [
    "# 셀 실행 \n",
    "# Ctrl + Enter\n",
    "# Shift + Enter (다음 셀로 이동)"
   ]
  },
  {
   "cell_type": "code",
   "execution_count": 18,
   "id": "6d09fa89-fbd8-4a2c-a21c-62729a00844a",
   "metadata": {},
   "outputs": [],
   "source": [
    "# 응답 객체에서 소스 코드 가져오기\n",
    "url = \"https://www.tistory.com\"\n",
    "html = urlopen(url)\n",
    "text = html.read()"
   ]
  },
  {
   "cell_type": "code",
   "execution_count": 19,
   "id": "552239ad-09ad-4cff-9b92-71f8d513475b",
   "metadata": {},
   "outputs": [],
   "source": [
    "# text.decode('utf8') # 인코딩 \n",
    "# 문서 전체 내용을 텍스트로 받아와서 출력"
   ]
  },
  {
   "cell_type": "code",
   "execution_count": 20,
   "id": "12e635e4-75c0-4f1e-93d5-406aa2634037",
   "metadata": {},
   "outputs": [],
   "source": [
    "#########################################"
   ]
  },
  {
   "cell_type": "markdown",
   "id": "e438f1b1-f1d8-4c32-9a0e-8ec1773c5132",
   "metadata": {},
   "source": [
    "### BeautifulSoup 사용법"
   ]
  },
  {
   "cell_type": "code",
   "execution_count": 21,
   "id": "b705b272-f2b7-4605-a6f7-d1a5cc005907",
   "metadata": {},
   "outputs": [],
   "source": [
    "import bs4"
   ]
  },
  {
   "cell_type": "code",
   "execution_count": 22,
   "id": "fa157da4-e0b4-4cf9-9a88-31104313dea0",
   "metadata": {},
   "outputs": [],
   "source": [
    "# import bs4 실행해서 오류 있으면 패키지 설치\n",
    "# !pip install bs4 "
   ]
  },
  {
   "cell_type": "code",
   "execution_count": 23,
   "id": "9342291d-728e-4800-be90-669c77ffa0ee",
   "metadata": {},
   "outputs": [],
   "source": [
    "url = \"https://www.tistory.com\"\n",
    "html = urlopen(url)"
   ]
  },
  {
   "cell_type": "code",
   "execution_count": 24,
   "id": "c0f7e2db-060a-4c9c-b6f4-68f068ae02cb",
   "metadata": {},
   "outputs": [],
   "source": [
    "# bs4 파싱 객체 반환\n",
    "bs_obj = bs4.BeautifulSoup(html, 'html.parser')\n",
    "# 파싱 객체가 생성되면, 객체의 메소드  사용해서 추출 가능"
   ]
  },
  {
   "cell_type": "code",
   "execution_count": 25,
   "id": "88efe1b3-f514-4c99-81b7-d52fc1296284",
   "metadata": {},
   "outputs": [],
   "source": [
    "# bs_obj"
   ]
  },
  {
   "cell_type": "code",
   "execution_count": 26,
   "id": "4a30a3cc-6656-40a7-8c89-dbecfe57d0df",
   "metadata": {},
   "outputs": [],
   "source": [
    "# 계층구조 표현 : 가독성이 좋음\n",
    "# print(bs_obj.prettify())"
   ]
  },
  {
   "cell_type": "code",
   "execution_count": 27,
   "id": "a325f1ab-c6bf-4787-a91a-f6a47b7df7bb",
   "metadata": {},
   "outputs": [],
   "source": [
    "# test 용 html 문서 내용\n",
    "html_str = \"<html><div>hello</div></html>\""
   ]
  },
  {
   "cell_type": "code",
   "execution_count": 28,
   "id": "dc21cabb-6554-4cbe-8228-b90e8ed9a43a",
   "metadata": {},
   "outputs": [
    {
     "data": {
      "text/plain": [
       "<html><div>hello</div></html>"
      ]
     },
     "execution_count": 28,
     "metadata": {},
     "output_type": "execute_result"
    }
   ],
   "source": [
    "# (1) html 코드 -> 파싱  객체로 변환\n",
    "bs_obj = bs4.BeautifulSoup(html_str, 'html.parser')\n",
    "bs_obj"
   ]
  },
  {
   "cell_type": "code",
   "execution_count": 29,
   "id": "fc001548-f760-408f-a7c4-77c3909e9a5e",
   "metadata": {},
   "outputs": [],
   "source": [
    "########################## 태그명으로 추출 ##############"
   ]
  },
  {
   "cell_type": "code",
   "execution_count": 30,
   "id": "df12c0c4-6e73-43f2-af14-657ced308668",
   "metadata": {},
   "outputs": [
    {
     "data": {
      "text/plain": [
       "<div>hello</div>"
      ]
     },
     "execution_count": 30,
     "metadata": {},
     "output_type": "execute_result"
    },
    {
     "data": {
      "text/plain": [
       "'hello'"
      ]
     },
     "execution_count": 30,
     "metadata": {},
     "output_type": "execute_result"
    }
   ],
   "source": [
    "# (2) find() 메소드 사용해서 태그 추출\n",
    "# find() : 첫 번째 태그만 추출\n",
    "# find('태그명')\n",
    "bs_obj.find('div')  # <div> 태그 추출\n",
    "bs_obj.find('div').text # 텍스트 속성 : 텍스트(문자열) 반환"
   ]
  },
  {
   "cell_type": "code",
   "execution_count": 31,
   "id": "279f8a45-b461-4e9f-9f4a-9edd34be7dea",
   "metadata": {},
   "outputs": [],
   "source": [
    "html_str = \"\"\"\n",
    "<html>\n",
    "    <body>\n",
    "        <ul>\n",
    "            <li>hello</li>\n",
    "            <li>bye</li>\n",
    "            <li>welcome</li>\n",
    "        </ul>\n",
    "    </body>\n",
    "</html>\n",
    "\"\"\""
   ]
  },
  {
   "cell_type": "code",
   "execution_count": 32,
   "id": "4f9811b9-bae3-4591-a303-24d26257a610",
   "metadata": {},
   "outputs": [
    {
     "data": {
      "text/plain": [
       "\n",
       "<html>\n",
       "<body>\n",
       "<ul>\n",
       "<li>hello</li>\n",
       "<li>bye</li>\n",
       "<li>welcome</li>\n",
       "</ul>\n",
       "</body>\n",
       "</html>"
      ]
     },
     "execution_count": 32,
     "metadata": {},
     "output_type": "execute_result"
    }
   ],
   "source": [
    "# 파싱  객체 생성\n",
    "bs_obj = bs4.BeautifulSoup(html_str, 'html.parser')\n",
    "bs_obj"
   ]
  },
  {
   "cell_type": "code",
   "execution_count": 33,
   "id": "b75e3663-6edf-4d95-b967-ff162c44153b",
   "metadata": {},
   "outputs": [
    {
     "data": {
      "text/plain": [
       "<ul>\n",
       "<li>hello</li>\n",
       "<li>bye</li>\n",
       "<li>welcome</li>\n",
       "</ul>"
      ]
     },
     "execution_count": 33,
     "metadata": {},
     "output_type": "execute_result"
    }
   ],
   "source": [
    "# <ul>  태그 추출\n",
    "ul = bs_obj.find('ul')\n",
    "ul"
   ]
  },
  {
   "cell_type": "code",
   "execution_count": 34,
   "id": "343518d6-759c-4eb4-9f1b-11b585658e86",
   "metadata": {},
   "outputs": [
    {
     "data": {
      "text/plain": [
       "<li>hello</li>"
      ]
     },
     "execution_count": 34,
     "metadata": {},
     "output_type": "execute_result"
    },
    {
     "data": {
      "text/plain": [
       "[<li>hello</li>, <li>bye</li>, <li>welcome</li>]"
      ]
     },
     "execution_count": 34,
     "metadata": {},
     "output_type": "execute_result"
    }
   ],
   "source": [
    "# <ul> 태그 중에서 첫 번째 <li> 태그만 추출\n",
    "ul.find('li')\n",
    "\n",
    "ul.findAll('li') # findAll() : 리스트로 반환"
   ]
  },
  {
   "cell_type": "code",
   "execution_count": 35,
   "id": "7b50a807-d5c1-42b6-b1f3-c12f20864569",
   "metadata": {},
   "outputs": [
    {
     "name": "stdout",
     "output_type": "stream",
     "text": [
      "hello\n",
      "bye\n",
      "welcome\n"
     ]
    }
   ],
   "source": [
    "# 모든 <li> 태그 내 text 추출 : 반복문\n",
    "lis = ul.findAll('li')\n",
    "\n",
    "for li in lis:\n",
    "    print(li.text)"
   ]
  },
  {
   "cell_type": "code",
   "execution_count": 36,
   "id": "532f74e4-f6a1-40d2-a59c-e45576be3e57",
   "metadata": {},
   "outputs": [],
   "source": [
    "###################### class 속성으로 추출 ###################"
   ]
  },
  {
   "cell_type": "code",
   "execution_count": 37,
   "id": "28a8428c-97d9-4b85-a11a-b667a94e2bcd",
   "metadata": {},
   "outputs": [],
   "source": [
    "# 태그 중에 특정 속성을 갖고 있는 태그 추출\n",
    "# find('태그명', {'속성명':'속성값'})\n",
    "# ('ul', {'class':'greet'})"
   ]
  },
  {
   "cell_type": "code",
   "execution_count": 38,
   "id": "4cb1fc5b-254e-43dc-a7cc-af678e56b745",
   "metadata": {},
   "outputs": [],
   "source": [
    "html_str = \"\"\"\n",
    "<html>\n",
    "    <body>\n",
    "        <ul class=\"greet\">\n",
    "            <li>hello</li>\n",
    "            <li>bye</li>\n",
    "            <li>welcome</li>\n",
    "        </ul>\n",
    "        <ul class=\"reply\">\n",
    "            <li>ok</li>\n",
    "            <li>no</li>\n",
    "            <li>sure</li>\n",
    "        </ul>\n",
    "    </body>\n",
    "</html>\n",
    "\"\"\""
   ]
  },
  {
   "cell_type": "code",
   "execution_count": 39,
   "id": "52884e4a-92db-412e-b13c-b8ea9c47be1e",
   "metadata": {},
   "outputs": [],
   "source": [
    "# 파싱  객체 생성\n",
    "bs_obj = bs4.BeautifulSoup(html_str, 'html.parser')\n",
    "# bs_obj"
   ]
  },
  {
   "cell_type": "code",
   "execution_count": 40,
   "id": "4426c78a-b29b-4a00-b91e-322bd47c12ad",
   "metadata": {},
   "outputs": [
    {
     "data": {
      "text/plain": [
       "<ul class=\"greet\">\n",
       "<li>hello</li>\n",
       "<li>bye</li>\n",
       "<li>welcome</li>\n",
       "</ul>"
      ]
     },
     "execution_count": 40,
     "metadata": {},
     "output_type": "execute_result"
    }
   ],
   "source": [
    "# class 속성값이 greet인 태그 추출\n",
    "bs_obj.find('ul', {'class':'greet'})"
   ]
  },
  {
   "cell_type": "code",
   "execution_count": 41,
   "id": "bb0693f2-f28f-4219-b56d-8e946b075e40",
   "metadata": {},
   "outputs": [
    {
     "name": "stdout",
     "output_type": "stream",
     "text": [
      "hello\n",
      "bye\n",
      "welcome\n"
     ]
    }
   ],
   "source": [
    "# class 속성값이 greet인 ul 태그 내 모든 li 태그의 텍스트값 추출\n",
    "li_tag = bs_obj.find('ul', {'class', 'greet'}).findAll('li')\n",
    "\n",
    "for li in li_tag:\n",
    "    print(li.text)"
   ]
  },
  {
   "cell_type": "code",
   "execution_count": 42,
   "id": "e5900b8c-c42b-45fb-9d09-ff6348a1bbf4",
   "metadata": {},
   "outputs": [],
   "source": [
    "#################### id 속성으로 추출 ######################"
   ]
  },
  {
   "cell_type": "code",
   "execution_count": 43,
   "id": "11b7b5f4-0968-4471-9e2a-163737ef6e24",
   "metadata": {},
   "outputs": [],
   "source": [
    "html_str = '''\n",
    "<html>\n",
    "    <body>\n",
    "        <h1 id='title'>Hello Python</h1>\n",
    "        <p id=\"crawling\">웹 크롤링</p>\n",
    "        <p id=\"parsing\">파싱</p>\n",
    "    </body>\n",
    "</html>'''\n"
   ]
  },
  {
   "cell_type": "code",
   "execution_count": 44,
   "id": "0681ee77-0f78-4e3c-8fd0-8ca94319cb4f",
   "metadata": {},
   "outputs": [],
   "source": [
    "# 파싱  객체 생성\n",
    "bs_obj = bs4.BeautifulSoup(html_str, 'html.parser')\n",
    "# bs_obj"
   ]
  },
  {
   "cell_type": "code",
   "execution_count": 45,
   "id": "822535c4-dc11-4765-955b-4b0fa0b0e012",
   "metadata": {},
   "outputs": [
    {
     "data": {
      "text/plain": [
       "<h1 id=\"title\">Hello Python</h1>"
      ]
     },
     "execution_count": 45,
     "metadata": {},
     "output_type": "execute_result"
    },
    {
     "data": {
      "text/plain": [
       "'Hello Python'"
      ]
     },
     "execution_count": 45,
     "metadata": {},
     "output_type": "execute_result"
    }
   ],
   "source": [
    "# id가 title인 태그와 텍스트  추출\n",
    "bs_obj.find('h1', {'id': 'title'})\n",
    "bs_obj.find('h1', {'id': 'title'}).text"
   ]
  },
  {
   "cell_type": "code",
   "execution_count": 46,
   "id": "4bec6cb3-4753-4270-a38e-10ff4f608161",
   "metadata": {},
   "outputs": [
    {
     "data": {
      "text/plain": [
       "<p id=\"parsing\">파싱</p>"
      ]
     },
     "execution_count": 46,
     "metadata": {},
     "output_type": "execute_result"
    },
    {
     "data": {
      "text/plain": [
       "'파싱'"
      ]
     },
     "execution_count": 46,
     "metadata": {},
     "output_type": "execute_result"
    }
   ],
   "source": [
    "# id가 parsing인 태그와 텍스트  추출\n",
    "bs_obj.find('p', {'id':'parsing'})\n",
    "bs_obj.find('p', {'id':'parsing'}).text"
   ]
  },
  {
   "cell_type": "markdown",
   "id": "8fcc7fdf-8418-4809-a404-3086827a3b2b",
   "metadata": {},
   "source": [
    "#### 형제 노드 찾기\n",
    "- next_sibling"
   ]
  },
  {
   "cell_type": "code",
   "execution_count": 47,
   "id": "63a646bb-8851-4dd3-88b3-86f30919608c",
   "metadata": {},
   "outputs": [],
   "source": [
    "html_str = \"\"\"\n",
    "<html>\n",
    "    <body>\n",
    "        <h1>파이썬 프로그래밍</h1>\n",
    "        <p>웹 페이지 분석</p>\n",
    "        <p>크롤링</p><p>파싱</p>        \n",
    "    </body>\n",
    "</html>\n",
    "\"\"\""
   ]
  },
  {
   "cell_type": "code",
   "execution_count": 48,
   "id": "cacb3e6f-431a-4c1f-b320-6841d5c54798",
   "metadata": {},
   "outputs": [],
   "source": [
    "# 파싱  객체 생성\n",
    "bs_obj = bs4.BeautifulSoup(html_str, 'html.parser')"
   ]
  },
  {
   "cell_type": "code",
   "execution_count": 49,
   "id": "0060c1e7-701f-44ed-aef8-b49b6631091e",
   "metadata": {},
   "outputs": [
    {
     "data": {
      "text/plain": [
       "<p>웹 페이지 분석</p>"
      ]
     },
     "execution_count": 49,
     "metadata": {},
     "output_type": "execute_result"
    }
   ],
   "source": [
    "# 첫 번째 p 태그\n",
    "bs_obj.find('p')"
   ]
  },
  {
   "cell_type": "code",
   "execution_count": 50,
   "id": "e688899d-5dc0-4e22-bae7-90097145b042",
   "metadata": {},
   "outputs": [
    {
     "data": {
      "text/plain": [
       "[<p>웹 페이지 분석</p>, <p>크롤링</p>, <p>파싱</p>]"
      ]
     },
     "execution_count": 50,
     "metadata": {},
     "output_type": "execute_result"
    },
    {
     "data": {
      "text/plain": [
       "<p>크롤링</p>"
      ]
     },
     "execution_count": 50,
     "metadata": {},
     "output_type": "execute_result"
    }
   ],
   "source": [
    "# 모든 p 태그\n",
    "bs_obj.findAll('p')\n",
    "bs_obj.findAll('p')[1] # 인덱스1 번째 (두 번째) p 태그"
   ]
  },
  {
   "cell_type": "code",
   "execution_count": 51,
   "id": "c70ae35c-7a55-4b70-8b41-3d3b8764145f",
   "metadata": {},
   "outputs": [
    {
     "data": {
      "text/plain": [
       "<p>웹 페이지 분석</p>"
      ]
     },
     "execution_count": 51,
     "metadata": {},
     "output_type": "execute_result"
    },
    {
     "data": {
      "text/plain": [
       "'\\n'"
      ]
     },
     "execution_count": 51,
     "metadata": {},
     "output_type": "execute_result"
    },
    {
     "data": {
      "text/plain": [
       "<p>크롤링</p>"
      ]
     },
     "execution_count": 51,
     "metadata": {},
     "output_type": "execute_result"
    },
    {
     "data": {
      "text/plain": [
       "<p>파싱</p>"
      ]
     },
     "execution_count": 51,
     "metadata": {},
     "output_type": "execute_result"
    }
   ],
   "source": [
    "p1 = bs_obj.find('p')\n",
    "p1\n",
    "\n",
    "p1.next_sibling # 줄바꿈한 경우 형제 태그로 '\\n'을 인식\n",
    "p1.next_sibling.next_sibling\n",
    "p1.next_sibling.next_sibling.next_sibling # 줄바꿈 안했으므로,옆의 p 태그  *<p>크롤링</p><p>파싱</p>   "
   ]
  },
  {
   "cell_type": "markdown",
   "id": "6805dd32-8581-4d9d-b143-6cbfffa41986",
   "metadata": {},
   "source": [
    "#### 태그 내의 특정 속성의 값 추출\n",
    "- <a href=\"www.abc.com\">\n",
    "- <a> 태그의 href 속성의 속성값 : www.abc.com"
   ]
  },
  {
   "cell_type": "code",
   "execution_count": 52,
   "id": "3cfc1808-b5c1-4711-b008-d8dabcb48710",
   "metadata": {},
   "outputs": [],
   "source": [
    "\n",
    "html_str = \"\"\"\n",
    "<html>\n",
    "    <body>\n",
    "        <ul class=\"ko\">\n",
    "            <li><a href=\"https://www.naver.com/\">네이버</a></li>\n",
    "            <li><a href=\"https://www.daum.net/\">다음</a></li>\n",
    "        </ul>\n",
    "        <ul class=\"sns\">\n",
    "            <li><a href=\"https://www.goole.com/\">구글</a></li>\n",
    "            <li><a href=\"https://www.facebook.net/\">페이스북</a></li>\n",
    "        </ul>\n",
    "    </body>\n",
    "</html>\n",
    "\"\"\""
   ]
  },
  {
   "cell_type": "code",
   "execution_count": 53,
   "id": "cb0cc907-f3a9-4ba6-ab13-cd701f87370a",
   "metadata": {},
   "outputs": [],
   "source": [
    "# 파싱  객체 생성\n",
    "bs_obj = bs4.BeautifulSoup(html_str, 'html.parser')"
   ]
  },
  {
   "cell_type": "code",
   "execution_count": 54,
   "id": "6982b443-c581-4bea-8406-d196bdb37574",
   "metadata": {},
   "outputs": [
    {
     "data": {
      "text/plain": [
       "<a href=\"https://www.naver.com/\">네이버</a>"
      ]
     },
     "execution_count": 54,
     "metadata": {},
     "output_type": "execute_result"
    },
    {
     "data": {
      "text/plain": [
       "'https://www.naver.com/'"
      ]
     },
     "execution_count": 54,
     "metadata": {},
     "output_type": "execute_result"
    },
    {
     "name": "stdout",
     "output_type": "stream",
     "text": [
      "https://www.naver.com/\n"
     ]
    }
   ],
   "source": [
    "# 첫 번째 a 태그\n",
    "bs_obj.findAll('a')[0]\n",
    "\n",
    "# a 태그의 href 속성\n",
    "bs_obj.findAll('a')[0]['href']\n",
    "print(bs_obj.findAll('a')[0]['href'])"
   ]
  },
  {
   "cell_type": "code",
   "execution_count": 55,
   "id": "ecdc9418-09f7-4502-8cb7-4f9be70908eb",
   "metadata": {},
   "outputs": [
    {
     "name": "stdout",
     "output_type": "stream",
     "text": [
      "https://www.naver.com/\n",
      "https://www.daum.net/\n",
      "https://www.goole.com/\n",
      "https://www.facebook.net/\n"
     ]
    }
   ],
   "source": [
    "# 모든 링크 추출\n",
    "a_list = bs_obj.findAll('a') \n",
    "\n",
    "for a in a_list:\n",
    "    print(a['href'])"
   ]
  },
  {
   "cell_type": "code",
   "execution_count": 56,
   "id": "4f1f94aa-7107-436a-a9d0-5492c5b97cdd",
   "metadata": {},
   "outputs": [],
   "source": [
    "######################## select() 메소드 사용 ########################"
   ]
  },
  {
   "cell_type": "markdown",
   "id": "94d39206-d7c5-4771-94f2-626413327617",
   "metadata": {},
   "source": [
    "select() 메소드\n",
    "- select_one() : 1개의 태그 추출\n",
    "- select() : 여러 개의 태그 추출 (리스트 반환(1개라도 리스트로 반환))\n",
    "- CSS 선택자 그대로 사용 가능 : 아이디 선택자 / 클래스 선택자 / 태그 선택자\n",
    "\n",
    "- .클래스명 : 클래스 선택자\n",
    "  - 같은 클래스 값을 갖는 여러 개 있을 수 있음\n",
    "- #id명 : 유일한 태그 (1개만 추출)\n",
    "- 띄어 쓰기 : 자손 선택\n",
    "  - div li : div 태그 내의 모든 자손 li\n",
    "- > : 자식 선택\n",
    "  - div > li : div 태그 내의 바로 밑의 자식 태그 li"
   ]
  },
  {
   "cell_type": "code",
   "execution_count": 57,
   "id": "19f97b80-7911-468d-a8c9-b6436018b452",
   "metadata": {},
   "outputs": [],
   "source": [
    "##################### select() 사용 ###########"
   ]
  },
  {
   "cell_type": "code",
   "execution_count": 58,
   "id": "6b7d899f-538d-40bd-b86e-2fd6d6d1e8af",
   "metadata": {},
   "outputs": [],
   "source": [
    "html_str = \"\"\"\n",
    "<html>\n",
    "   <body>\n",
    "    \t<div id=\"wrap\">\n",
    "        \t<div id=\"mainMenuBox\">                \t\n",
    "                <ul>  \n",
    "                    <li><a href=\"#\" id='fashion'>패션잡화</a></li>    \n",
    "                    <li><a href=\"#\">주방용품</a></li>                     \t          \n",
    "                    <li><a href=\"#\">생활건강</a></li>\n",
    "                    <li><a href=\"#\">DIY가구</a></li>\n",
    "                </ul>\n",
    "            </div>\n",
    "        \t<div>\n",
    "            \t<table>\n",
    "                \t<tr><td><img src=\"shoes1.jpg\"></td>\n",
    "                    \t  <td><img src=\"shoes2.jpg\"></td>\n",
    "                    \t  <td><img src=\"shoes3.jpg\"></td></tr>\n",
    "                    <tr id=\"prdName\"><td>솔로이스트<br>걸리쉬 리본단화</td>\n",
    "                    \t  <td>맥컬린<br>그레이가보시스트랩 펌프스</td>\n",
    "                          <td>맥컬린<br>섹슈얼인사이드펌프스</td></tr>\n",
    "                    <tr id=\"price\"><td>100,000원</td><td>200,000원</td><td>120,000원</td></tr>\n",
    "                </table>\n",
    "            </div>\n",
    "            <div id=\"out_box\">\n",
    "            \t<div class=\"box\">\n",
    "                \t<h4>공지사항</h4>\n",
    "                    <hr>\n",
    "                    <a href=\"#\">[배송] : 무표배송 변경 안내 23.08.20</a><br>\n",
    "                    <a href=\"#\">[전시] : DIY 가구 전시 안내 23.08.31</a><br>\n",
    "                    <a href=\"#\">[판매] : 11월 특가 상품 안내 23.09.05</a><br>\n",
    "                    <div>공지사항 확인 필수</div>\n",
    "                </div>\n",
    "                <div class=\"box\">\n",
    "                \t<h4>커뮤니티</h4>\n",
    "                    <hr>\n",
    "                    <a href=\"#\">[레시피] : 살 안찌는 야식 만들기</a><br>\n",
    "                    <a href=\"#\">[가구] : 헌집 새집 베스트 가구</a><br>\n",
    "                    <a href=\"#\">[후기] : 배송이 잘못 됐어요 ㅠㅠ</a><br>\n",
    "                    <div>커뮤니티 확인 요청</div>\n",
    "                 </div>\n",
    "            </div>            \n",
    "        </div>\n",
    "    </body>\n",
    "</html>\"\"\""
   ]
  },
  {
   "cell_type": "code",
   "execution_count": 59,
   "id": "3463d084-518e-4602-814e-399ebf79d6ef",
   "metadata": {},
   "outputs": [],
   "source": [
    "# 파싱  객체 생성\n",
    "bs_obj = bs4.BeautifulSoup(html_str, 'html.parser')"
   ]
  },
  {
   "cell_type": "code",
   "execution_count": 60,
   "id": "cf200b32-e947-4daa-810f-aab044030d39",
   "metadata": {},
   "outputs": [
    {
     "name": "stdout",
     "output_type": "stream",
     "text": [
      "패션잡화\n",
      "주방용품\n",
      "생활건강\n",
      "DIY가구\n",
      "[배송] : 무표배송 변경 안내 23.08.20\n",
      "[전시] : DIY 가구 전시 안내 23.08.31\n",
      "[판매] : 11월 특가 상품 안내 23.09.05\n",
      "[레시피] : 살 안찌는 야식 만들기\n",
      "[가구] : 헌집 새집 베스트 가구\n",
      "[후기] : 배송이 잘못 됐어요 ㅠㅠ\n"
     ]
    }
   ],
   "source": [
    "# 모든 a 태그 추출\n",
    "a_list = bs_obj.select('a')\n",
    "\n",
    "# a 태그의 텍스트 추출\n",
    "for a in a_list:\n",
    "    print(a.text)"
   ]
  },
  {
   "cell_type": "code",
   "execution_count": 61,
   "id": "63306ac0-896e-46d8-9f07-4dd34f58ecf3",
   "metadata": {},
   "outputs": [
    {
     "data": {
      "text/plain": [
       "[<div id=\"mainMenuBox\">\n",
       " <ul>\n",
       " <li><a href=\"#\" id=\"fashion\">패션잡화</a></li>\n",
       " <li><a href=\"#\">주방용품</a></li>\n",
       " <li><a href=\"#\">생활건강</a></li>\n",
       " <li><a href=\"#\">DIY가구</a></li>\n",
       " </ul>\n",
       " </div>]"
      ]
     },
     "execution_count": 61,
     "metadata": {},
     "output_type": "execute_result"
    }
   ],
   "source": [
    "# id 선택자 사용 \n",
    "# id=\"mainMenuBox\"인 div 태그 추출\n",
    "bs_obj.select('#mainMenuBox')"
   ]
  },
  {
   "cell_type": "code",
   "execution_count": 62,
   "id": "9cf83ae9-0e46-4801-aed4-031860c2fc75",
   "metadata": {},
   "outputs": [
    {
     "data": {
      "text/plain": [
       "[<li><a href=\"#\" id=\"fashion\">패션잡화</a></li>,\n",
       " <li><a href=\"#\">주방용품</a></li>,\n",
       " <li><a href=\"#\">생활건강</a></li>,\n",
       " <li><a href=\"#\">DIY가구</a></li>]"
      ]
     },
     "execution_count": 62,
     "metadata": {},
     "output_type": "execute_result"
    }
   ],
   "source": [
    "# # id=\"mainMenuBox\"인 div 태그 내 모든 li 태그 추출\n",
    "bs_obj.select('#mainMenuBox li')"
   ]
  },
  {
   "cell_type": "code",
   "execution_count": 63,
   "id": "df180108-ad4c-46c0-ac2a-84b64236bc05",
   "metadata": {},
   "outputs": [
    {
     "data": {
      "text/plain": [
       "[<a href=\"#\">[배송] : 무표배송 변경 안내 23.08.20</a>,\n",
       " <a href=\"#\">[전시] : DIY 가구 전시 안내 23.08.31</a>,\n",
       " <a href=\"#\">[판매] : 11월 특가 상품 안내 23.09.05</a>,\n",
       " <a href=\"#\">[레시피] : 살 안찌는 야식 만들기</a>,\n",
       " <a href=\"#\">[가구] : 헌집 새집 베스트 가구</a>,\n",
       " <a href=\"#\">[후기] : 배송이 잘못 됐어요 ㅠㅠ</a>]"
      ]
     },
     "execution_count": 63,
     "metadata": {},
     "output_type": "execute_result"
    }
   ],
   "source": [
    "# class가 box인 태그 내에 들어 있는 모든 a 태그 추출\n",
    "bs_obj.select('.box a')"
   ]
  },
  {
   "cell_type": "code",
   "execution_count": 64,
   "id": "de89fc5e-2abb-4a8d-8704-892815b2f92d",
   "metadata": {},
   "outputs": [
    {
     "data": {
      "text/plain": [
       "'패션잡화'"
      ]
     },
     "execution_count": 64,
     "metadata": {},
     "output_type": "execute_result"
    },
    {
     "data": {
      "text/plain": [
       "'패션잡화'"
      ]
     },
     "execution_count": 64,
     "metadata": {},
     "output_type": "execute_result"
    }
   ],
   "source": [
    "# '패션잡화' 추출\n",
    "bs_obj.select('#fashion')[0].text\n",
    "bs_obj.select_one('#fashion').text"
   ]
  },
  {
   "cell_type": "code",
   "execution_count": 65,
   "id": "32a0cba4-2971-4b0d-9f5e-6fd78b4e1477",
   "metadata": {},
   "outputs": [],
   "source": [
    "# '공지사항 확인 필수' 추출\n"
   ]
  },
  {
   "cell_type": "code",
   "execution_count": null,
   "id": "f3ca03bf-69ef-4f80-82a1-e5001b0af984",
   "metadata": {},
   "outputs": [],
   "source": []
  },
  {
   "cell_type": "code",
   "execution_count": null,
   "id": "79c0dc43-3283-4341-8d85-efa778ca36d0",
   "metadata": {},
   "outputs": [],
   "source": []
  }
 ],
 "metadata": {
  "kernelspec": {
   "display_name": "Python 3 (ipykernel)",
   "language": "python",
   "name": "python3"
  },
  "language_info": {
   "codemirror_mode": {
    "name": "ipython",
    "version": 3
   },
   "file_extension": ".py",
   "mimetype": "text/x-python",
   "name": "python",
   "nbconvert_exporter": "python",
   "pygments_lexer": "ipython3",
   "version": "3.11.5"
  }
 },
 "nbformat": 4,
 "nbformat_minor": 5
}
