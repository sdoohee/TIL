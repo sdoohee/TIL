{
 "cells": [
  {
   "cell_type": "code",
   "execution_count": 16,
   "id": "29ae4663-a01e-40ca-a611-ee6972d8a93a",
   "metadata": {
    "scrolled": true
   },
   "outputs": [],
   "source": [
    "# from Ipython.core.interactiveshell import InteractiveShell\n",
    "# InteractiveShell.ast_node_interactivity=\"all\""
   ]
  },
  {
   "cell_type": "markdown",
   "id": "4a5535bd-8851-4518-82a2-9777c0fc5cd8",
   "metadata": {},
   "source": [
    "### JSON (JavaScript Object Notation)\n",
    "- 자바스크립트 객체 표기법\n",
    "- key와 value 값이 쌍으로 구성된 형태의 객체 표기법\n",
    "- 클라이언트와 서버 사이에서 정보를 교환하기 위한 목적으로 사용\n",
    "- API 호출 결과 JSON 형태로 많이 반환\n",
    "- XML 표기보다 간단\n",
    "- 파일 확장명 : json (예: data.json)\n",
    "- ‘제이선’, ‘제이썬’, ‘제이슨’ 등으로 읽음"
   ]
  },
  {
   "cell_type": "code",
   "execution_count": 18,
   "id": "6bede5c5-9552-436f-bce2-7e1192f87cc4",
   "metadata": {},
   "outputs": [],
   "source": [
    "import json"
   ]
  },
  {
   "cell_type": "code",
   "execution_count": 19,
   "id": "a89941bc-eae1-4a2b-89b4-c82c80aab0ed",
   "metadata": {},
   "outputs": [
    {
     "data": {
      "text/plain": [
       "{'name': '홍길동', 'age': '33'}"
      ]
     },
     "execution_count": 19,
     "metadata": {},
     "output_type": "execute_result"
    }
   ],
   "source": [
    "# JSON 형식의 문자열\n",
    "json_str = '{\"name\":\"홍길동\", \"age\":\"33\"}'\n",
    "\n",
    "# JSON 형식의 문자열을 JSON 객체로 변환 : Loads() 메소드 사용\n",
    "json_obj = json.loads(json_str)\n",
    "json_obj"
   ]
  },
  {
   "cell_type": "code",
   "execution_count": 20,
   "id": "d57cd3ee-32dc-4fd2-bcc4-18a8a18c40f1",
   "metadata": {},
   "outputs": [
    {
     "data": {
      "text/plain": [
       "dict"
      ]
     },
     "execution_count": 20,
     "metadata": {},
     "output_type": "execute_result"
    }
   ],
   "source": [
    "type(json_obj)"
   ]
  },
  {
   "cell_type": "code",
   "execution_count": 21,
   "id": "481a521f-8166-48f9-b0bb-9c238e665db0",
   "metadata": {},
   "outputs": [
    {
     "data": {
      "text/plain": [
       "'홍길동'"
      ]
     },
     "execution_count": 21,
     "metadata": {},
     "output_type": "execute_result"
    }
   ],
   "source": [
    "# 각 요소의 값 추출 : get() 메소드 사용\n",
    "json_obj.get(\"name\")"
   ]
  },
  {
   "cell_type": "code",
   "execution_count": 22,
   "id": "137e9f85-e6ad-4935-ab3c-bcbba8b21b5f",
   "metadata": {},
   "outputs": [
    {
     "data": {
      "text/plain": [
       "'33'"
      ]
     },
     "execution_count": 22,
     "metadata": {},
     "output_type": "execute_result"
    }
   ],
   "source": [
    "json_obj.get(\"age\")"
   ]
  },
  {
   "cell_type": "code",
   "execution_count": 23,
   "id": "3f7701bc-b251-457c-9743-3d0522c30d56",
   "metadata": {},
   "outputs": [
    {
     "data": {
      "text/plain": [
       "'홍길동'"
      ]
     },
     "execution_count": 23,
     "metadata": {},
     "output_type": "execute_result"
    }
   ],
   "source": [
    "# 각 요소의 값 추출 : key 사용\n",
    "json_obj['name']"
   ]
  },
  {
   "cell_type": "code",
   "execution_count": 24,
   "id": "e6b43390-d2c5-4f6f-b451-bc1e1f3284f1",
   "metadata": {},
   "outputs": [
    {
     "data": {
      "text/plain": [
       "'33'"
      ]
     },
     "execution_count": 24,
     "metadata": {},
     "output_type": "execute_result"
    }
   ],
   "source": [
    "json_obj['age']"
   ]
  },
  {
   "cell_type": "code",
   "execution_count": 25,
   "id": "557d121c-9741-4bb7-80ee-b4fa31559944",
   "metadata": {},
   "outputs": [
    {
     "data": {
      "text/plain": [
       "{'fruits': [{'fruit': 'apple'}, {'fruit': 'pear'}, {'fruit': 'banana'}],\n",
       " 'prices': [{'price': 1000}, {'price': 2000}, {'price': 3000}]}"
      ]
     },
     "execution_count": 25,
     "metadata": {},
     "output_type": "execute_result"
    }
   ],
   "source": [
    "json_str = '''\n",
    "    {\"fruits\":[{\"fruit\":\"apple\"}, {\"fruit\":\"pear\"}, {\"fruit\":\"banana\"}],\n",
    "    \"prices\":[{\"price\":1000}, {\"price\":2000}, {\"price\":3000}]}\n",
    "'''\n",
    "json_obj = json.loads(json_str)\n",
    "json_obj"
   ]
  },
  {
   "cell_type": "code",
   "execution_count": 26,
   "id": "ab8fbd42-d3b3-42f5-8192-66133666329b",
   "metadata": {},
   "outputs": [
    {
     "data": {
      "text/plain": [
       "[{'fruit': 'apple'}, {'fruit': 'pear'}, {'fruit': 'banana'}]"
      ]
     },
     "execution_count": 26,
     "metadata": {},
     "output_type": "execute_result"
    }
   ],
   "source": [
    "json_obj.get('fruits')\n",
    "json_obj['fruits']"
   ]
  },
  {
   "cell_type": "code",
   "execution_count": 27,
   "id": "de8a5c1f-93e0-4b3f-b53d-6f6581969b65",
   "metadata": {},
   "outputs": [
    {
     "data": {
      "text/plain": [
       "{'fruit': 'apple'}"
      ]
     },
     "execution_count": 27,
     "metadata": {},
     "output_type": "execute_result"
    }
   ],
   "source": [
    "json_obj['fruits'][0]"
   ]
  },
  {
   "cell_type": "code",
   "execution_count": 28,
   "id": "0c781931-6e5a-4a73-aab1-0acbd97523b6",
   "metadata": {},
   "outputs": [
    {
     "data": {
      "text/plain": [
       "'apple'"
      ]
     },
     "execution_count": 28,
     "metadata": {},
     "output_type": "execute_result"
    }
   ],
   "source": [
    "json_obj['fruits'][0]['fruit']"
   ]
  },
  {
   "cell_type": "code",
   "execution_count": 29,
   "id": "db192100-90a2-4d8b-a6bc-5530660498ff",
   "metadata": {},
   "outputs": [],
   "source": [
    "# apple\n",
    "# pear\n",
    "# banana\n",
    "\n",
    "# 1000\n",
    "# 2000\n",
    "# 3000\n",
    "\n",
    "# apple 1000\n",
    "# pear 2000\n",
    "# banana 3000"
   ]
  },
  {
   "cell_type": "code",
   "execution_count": 30,
   "id": "3e6b13fc-5316-4933-a929-f1a2b3532ac5",
   "metadata": {},
   "outputs": [
    {
     "name": "stdout",
     "output_type": "stream",
     "text": [
      "apple\n",
      "pear\n",
      "banana\n",
      "\n",
      "1000\n",
      "2000\n",
      "3000\n",
      "\n",
      "apple 1000\n",
      "pear 2000\n",
      "banana 3000\n"
     ]
    }
   ],
   "source": [
    "for item in json_obj['fruits']:\n",
    "   print(item['fruit'])\n",
    "\n",
    "print()\n",
    "\n",
    "for item in json_obj['prices']:\n",
    "   print(item['price'])\n",
    "\n",
    "print()\n",
    "\n",
    "for f, p in zip(json_obj['fruits'], json_obj['prices']):\n",
    "    print(f['fruit'], p['price'])"
   ]
  },
  {
   "cell_type": "markdown",
   "id": "3311fecb-edfc-4b27-bb0a-e72674f51569",
   "metadata": {},
   "source": [
    "### JSON 연습문제"
   ]
  },
  {
   "cell_type": "code",
   "execution_count": null,
   "id": "840ad65d-268c-4e62-b493-2b646ab1ad36",
   "metadata": {},
   "outputs": [],
   "source": [
    "{\n",
    "\t\"lastBuildDate\":\"Thu, 14 Sep 2023 12:50:30 +0900\",\n",
    "\t\"total\":949667,\n",
    "\t\"start\":1,\n",
    "\t\"display\":10,\n",
    "\t\"items\":[\n",
    "\t\t{\n",
    "\t\t\t\"title\":\"아이폰 사파리 텍스트 찾기 <b>단어<\\/b> <b>검색<\\/b> 방법 정리\",\n",
    "\t\t\t\"link\":\"https:\\/\\/blog.naver.com\\/jhbksgi\\/222982804031\",\n",
    "\t\t\t\"description\":\"아이폰 사파리 크롬 텍스트 찾기 <b>단어<\\/b> <b>검색<\\/b> 방법 정리 글\\/사진 : 곰T 기본적으로 컴퓨터용, 모바일용 Browser에는 '<b>검색<\\/b>' 기능이 있습니다. 그냥 <b>검색<\\/b>(Search)이라고 하면 감이 잘 오지 않을 수 있겠네요. 좀 더... \",\n",
    "\t\t\t\"bloggername\":\"곰T의 IT트러블슈팅\",\n",
    "\t\t\t\"bloggerlink\":\"blog.naver.com\\/jhbksgi\",\n",
    "\t\t\t\"postdate\":\"20230112\"\n",
    "\t\t},\n",
    "\t\t{\n",
    "\t\t\t\"title\":\"영어<b>단어<\\/b> <b>검색<\\/b>은 꼭 구글을 이용하기 네이버영어사전 vs... \",\n",
    "\t\t\t\"link\":\"https:\\/\\/blog.naver.com\\/rhyrhyrhy\\/222923284547\",\n",
    "\t\t\t\"description\":\"leave 의 뜻이라고 <b>검색<\\/b>이 됩니다. 사실 이 <b>단어<\\/b> 한개 뿐만이 아니라, 이런식으로 네이버 포털<b>검색<\\/b>으로 정확한 의미를 찾을 수 없었던 <b>단어<\\/b>들이 더 있었어요. 0 점대 레벨 도서에 나와있는 <b>단어<\\/b>들, 게다가... \",\n",
    "\t\t\t\"bloggername\":\"키즈 영어서점 중고 영어 원서 전문 (ar가입지사)\",\n",
    "\t\t\t\"bloggerlink\":\"blog.naver.com\\/rhyrhyrhy\",\n",
    "\t\t\t\"postdate\":\"20230712\"\n",
    "\t\t},\n",
    "\t\t{\n",
    "\t\t\t\"title\":\"영어 <b>단어<\\/b>로 유튜브 영상 <b>검색<\\/b>해주는 유글리쉬 사용법\",\n",
    "\t\t\t\"link\":\"https:\\/\\/blog.naver.com\\/tepet\\/222697272255\",\n",
    "\t\t\t\"description\":\"있는 분야의 핵심 <b>단어<\\/b>를 입력하면, 그 <b>단어<\\/b>가 사용된 문장이 나와주기 때문에 발음과 주로 함께 사용되는 <b>단어<\\/b>들까지 강제로 영어 공부가 된다. #영어<b>단어<\\/b> #유튜브 #영상<b>검색<\\/b> #유글리쉬 #사용법\",\n",
    "\t\t\t\"bloggername\":\"19%\",\n",
    "\t\t\t\"bloggerlink\":\"blog.naver.com\\/tepet\",\n",
    "\t\t\t\"postdate\":\"20230911\"\n",
    "\t\t}\n",
    "\t]\n",
    "}"
   ]
  },
  {
   "cell_type": "code",
   "execution_count": 33,
   "id": "a93db420-e6f1-46b8-b447-9f8f5e84d76c",
   "metadata": {},
   "outputs": [
    {
     "ename": "KeyError",
     "evalue": "'item'",
     "output_type": "error",
     "traceback": [
      "\u001b[0;31m---------------------------------------------------------------------------\u001b[0m",
      "\u001b[0;31mKeyError\u001b[0m                                  Traceback (most recent call last)",
      "Cell \u001b[0;32mIn[33], line 5\u001b[0m\n\u001b[1;32m      2\u001b[0m title_list \u001b[38;5;241m=\u001b[39m []\n\u001b[1;32m      3\u001b[0m link_list \u001b[38;5;241m=\u001b[39m []\n\u001b[0;32m----> 5\u001b[0m \u001b[38;5;28;01mfor\u001b[39;00m item \u001b[38;5;129;01min\u001b[39;00m \u001b[43mjson_obj\u001b[49m\u001b[43m[\u001b[49m\u001b[38;5;124;43m'\u001b[39;49m\u001b[38;5;124;43mitem\u001b[39;49m\u001b[38;5;124;43m'\u001b[39;49m\u001b[43m]\u001b[49m :\n\u001b[1;32m      6\u001b[0m     title_list\u001b[38;5;241m.\u001b[39mappend(item[\u001b[38;5;124m'\u001b[39m\u001b[38;5;124mtitle\u001b[39m\u001b[38;5;124m'\u001b[39m])\n\u001b[1;32m      7\u001b[0m     link_list\u001b[38;5;241m.\u001b[39mappend(item[\u001b[38;5;124m'\u001b[39m\u001b[38;5;124mlink\u001b[39m\u001b[38;5;124m'\u001b[39m])\n",
      "\u001b[0;31mKeyError\u001b[0m: 'item'"
     ]
    }
   ],
   "source": [
    "import pandas as pd\n",
    "\n",
    "# title과 link 추출해서 데이터프레임으로 생성\n",
    "title_list = []\n",
    "link_list = []\n",
    "\n",
    "for item in json_obj['items'] :\n",
    "    title_list.append(item['title'])\n",
    "    link_list.append(item['link'])\n",
    "\n",
    "all_df = pd.DataFrame({'title':title_list, \"link\":link_list})\n",
    "all_df"
   ]
  },
  {
   "cell_type": "code",
   "execution_count": null,
   "id": "d3a3a8e5-26f0-468a-a63b-bfdf6d989f2b",
   "metadata": {},
   "outputs": [],
   "source": [
    "from item in json_obj['items'] :\n",
    "    title_list.append(item['title'].replace('<b>', '').replace('</b>',''"
   ]
  }
 ],
 "metadata": {
  "kernelspec": {
   "display_name": "Python 3 (ipykernel)",
   "language": "python",
   "name": "python3"
  },
  "language_info": {
   "codemirror_mode": {
    "name": "ipython",
    "version": 3
   },
   "file_extension": ".py",
   "mimetype": "text/x-python",
   "name": "python",
   "nbconvert_exporter": "python",
   "pygments_lexer": "ipython3",
   "version": "3.11.5"
  },
  "widgets": {
   "application/vnd.jupyter.widget-state+json": {
    "state": {},
    "version_major": 2,
    "version_minor": 0
   }
  }
 },
 "nbformat": 4,
 "nbformat_minor": 5
}
