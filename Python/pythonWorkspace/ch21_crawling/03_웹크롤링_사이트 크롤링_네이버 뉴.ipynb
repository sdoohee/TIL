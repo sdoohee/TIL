{
 "cells": [
  {
   "cell_type": "markdown",
   "id": "31d461f0-2105-4dbd-b8a3-dd81b19f141f",
   "metadata": {},
   "source": [
    "### 사이트 크롤링\n",
    "1. 사이트  소스 내에서 특정 문자열(data)을 지칭하는 선택자 찾기\n",
    "    - 크롬 개발자  도구의 기능 사용\n",
    "    - 검사할 페이지의 요소 선택 : 태그/선택자/계층 구조 확인\n",
    "2. 전체 코드에서 수집하려고 하는 데이터의 위치 찾고\n",
    "    - 태그 파싱 후 필요 데이터 추출   \n",
    "   "
   ]
  },
  {
   "cell_type": "code",
   "execution_count": 1,
   "id": "6b2db29f-092d-45aa-835e-01335e517159",
   "metadata": {},
   "outputs": [],
   "source": [
    "from IPython.core.interactiveshell import InteractiveShell\n",
    "InteractiveShell.ast_node_interactivity=\"all\""
   ]
  },
  {
   "cell_type": "code",
   "execution_count": 2,
   "id": "cf07d450-d289-4f86-9705-ea5fee2d257b",
   "metadata": {},
   "outputs": [],
   "source": [
    "from urllib.request import urlopen\n",
    "import bs4"
   ]
  },
  {
   "cell_type": "markdown",
   "id": "6383946a-57d6-486f-9405-cb3679f7f20f",
   "metadata": {},
   "source": [
    "#### 사이트 크롤링 : https://www.tistory.com/"
   ]
  },
  {
   "cell_type": "code",
   "execution_count": 3,
   "id": "37802044-2c94-4951-a865-58acba6bcf16",
   "metadata": {},
   "outputs": [],
   "source": [
    "url = 'https://www.tistory.com/'\n",
    "html = urlopen(url)\n",
    "# 파서 객체 생성\n",
    "bs_obj = bs4.BeautifulSoup(html, 'html.parser') "
   ]
  },
  {
   "cell_type": "code",
   "execution_count": 4,
   "id": "d68d0b8a-c841-4762-8c5f-ca7c70634c4f",
   "metadata": {},
   "outputs": [],
   "source": [
    "# bs_obj"
   ]
  },
  {
   "cell_type": "code",
   "execution_count": 5,
   "id": "ad8ebb68-7b7e-44a6-a410-cec817a37290",
   "metadata": {},
   "outputs": [
    {
     "data": {
      "text/plain": [
       "<div class=\"gnb_tistory\" id=\"kakaoGnb\" role=\"navigation\">\n",
       "<h2 class=\"screen_out\">서비스 주요 메뉴</h2>\n",
       "<ul class=\"list_gnb\">\n",
       "<li><a class=\"link_gnb\" href=\"/feed\">피드</a></li>\n",
       "<li><a class=\"link_gnb\" href=\"/category\">스토리</a></li>\n",
       "<li><a class=\"link_gnb\" href=\"/skin\">스킨</a></li>\n",
       "<li><a class=\"link_gnb\" href=\"/community\">포럼</a></li>\n",
       "</ul>\n",
       "</div>"
      ]
     },
     "execution_count": 5,
     "metadata": {},
     "output_type": "execute_result"
    }
   ],
   "source": [
    "# 기본 메뉴 박스 : id : kakaoGnb 인 div 태그 추출\n",
    "tistory_menu = bs_obj.find('div', {'id':'kakaoGnb'})\n",
    "tistory_menu"
   ]
  },
  {
   "cell_type": "code",
   "execution_count": 6,
   "id": "bddd0831-113b-4f9b-866f-74197b2b578c",
   "metadata": {},
   "outputs": [
    {
     "data": {
      "text/plain": [
       "<ul class=\"list_gnb\">\n",
       "<li><a class=\"link_gnb\" href=\"/feed\">피드</a></li>\n",
       "<li><a class=\"link_gnb\" href=\"/category\">스토리</a></li>\n",
       "<li><a class=\"link_gnb\" href=\"/skin\">스킨</a></li>\n",
       "<li><a class=\"link_gnb\" href=\"/community\">포럼</a></li>\n",
       "</ul>"
      ]
     },
     "execution_count": 6,
     "metadata": {},
     "output_type": "execute_result"
    }
   ],
   "source": [
    "ul = bs_obj.find('ul', {'class':'list_gnb'})\n",
    "ul"
   ]
  },
  {
   "cell_type": "code",
   "execution_count": 7,
   "id": "a8ae0f94-4621-46d6-be2b-8344756e1ed6",
   "metadata": {},
   "outputs": [
    {
     "data": {
      "text/plain": [
       "[<a class=\"link_gnb\" href=\"/feed\">피드</a>,\n",
       " <a class=\"link_gnb\" href=\"/category\">스토리</a>,\n",
       " <a class=\"link_gnb\" href=\"/skin\">스킨</a>,\n",
       " <a class=\"link_gnb\" href=\"/community\">포럼</a>]"
      ]
     },
     "execution_count": 7,
     "metadata": {},
     "output_type": "execute_result"
    }
   ],
   "source": [
    "a_tag = bs_obj.findAll('a', {'class':'link_gnb'})\n",
    "a_tag"
   ]
  },
  {
   "cell_type": "code",
   "execution_count": 8,
   "id": "e3cecb8a-7d2b-464d-911f-d96ca1452ddc",
   "metadata": {},
   "outputs": [
    {
     "name": "stdout",
     "output_type": "stream",
     "text": [
      "[<a class=\"link_gnb\" href=\"/feed\">피드</a>] 피드\n",
      "[<a class=\"link_gnb\" href=\"/category\">스토리</a>] 스토리\n",
      "[<a class=\"link_gnb\" href=\"/skin\">스킨</a>] 스킨\n",
      "[<a class=\"link_gnb\" href=\"/community\">포럼</a>] 포럼\n"
     ]
    }
   ],
   "source": [
    "# 메뉴 항목 추출 \n",
    "li_list = tistory_menu.select('li')\n",
    "\n",
    "for li in li_list:\n",
    "    print(li.select('a'), li.text)"
   ]
  },
  {
   "cell_type": "code",
   "execution_count": 9,
   "id": "45160e79-7b24-4f16-9752-56ad4956d348",
   "metadata": {},
   "outputs": [
    {
     "name": "stdout",
     "output_type": "stream",
     "text": [
      "피드\n",
      "스토리\n",
      "스킨\n",
      "포럼\n"
     ]
    }
   ],
   "source": [
    "# 또는\n",
    "a_tab_list = bs_obj.findAll('a', {'class':'link_gnb'})\n",
    "\n",
    "for a in a_tab_list:\n",
    "    print(a.text)"
   ]
  },
  {
   "cell_type": "code",
   "execution_count": 10,
   "id": "209ef6ed-8c37-43bf-8a20-22e1e62562b2",
   "metadata": {},
   "outputs": [],
   "source": [
    "# 우측 하단의 목록에서 텍스트만 추출\n",
    "# 메뉴가 궁글할  때\n",
    "# 사용하다 궁금할 땐\n",
    "# 정책이 궁금할 땐\n",
    "# 도움이 필요할 땐"
   ]
  },
  {
   "cell_type": "code",
   "execution_count": 11,
   "id": "beac794b-ca47-471e-b23d-6261008b0f31",
   "metadata": {},
   "outputs": [
    {
     "name": "stdout",
     "output_type": "stream",
     "text": [
      "메뉴가 궁금할 땐\n",
      "사용하다 궁금할 땐\n",
      "정책이 궁금할 땐\n",
      "도움이 필요할 땐\n"
     ]
    }
   ],
   "source": [
    "lists = bs_obj.findAll('span', {'class':'tit_question'})\n",
    "for list in lists:\n",
    "    print(list.text)"
   ]
  },
  {
   "cell_type": "code",
   "execution_count": null,
   "id": "fd2a5992-50b4-4a87-ac3e-fe187e0a2519",
   "metadata": {},
   "outputs": [],
   "source": []
  },
  {
   "cell_type": "code",
   "execution_count": null,
   "id": "149ff6e7-5faa-4382-ad10-8c3e1e0d8a94",
   "metadata": {},
   "outputs": [],
   "source": [
    "##########################################################"
   ]
  },
  {
   "cell_type": "markdown",
   "id": "b64bf90a-0029-4c58-8fc6-b9d46a030614",
   "metadata": {},
   "source": [
    "### 네이버 뉴스 섹션 메뉴와 섹션별 URL 추출"
   ]
  },
  {
   "cell_type": "code",
   "execution_count": 38,
   "id": "aa6428a6-686e-4bdf-9a78-586f789704dc",
   "metadata": {},
   "outputs": [],
   "source": [
    "# 사이트 연결. HTML 파싱\n",
    "url = 'https://news.naver.com/'\n",
    "html = urlopen(url)\n",
    "# 파서 객체 생성\n",
    "bs_obj = bs4.BeautifulSoup(html, 'html.parser') "
   ]
  },
  {
   "cell_type": "code",
   "execution_count": 31,
   "id": "63d95bae-f8b7-46ea-b3b5-9175c086b868",
   "metadata": {},
   "outputs": [],
   "source": [
    "# bs_obj"
   ]
  },
  {
   "cell_type": "code",
   "execution_count": 42,
   "id": "cf9c35ef-06bb-4b79-86f5-235d7dd9313b",
   "metadata": {},
   "outputs": [],
   "source": [
    "# F12 개발자 도구에서 확인\n",
    "# ul 태그 class 명 확인 : Nlnb_menu_list\n",
    "\n",
    "ul = bs_obj.select('ul.Nlnb_menu_list')\n",
    "# ul # 리스트 반환"
   ]
  },
  {
   "cell_type": "code",
   "execution_count": 43,
   "id": "14605c35-34f8-4d23-8d6f-75cc1bf3cd1e",
   "metadata": {},
   "outputs": [],
   "source": [
    "ul = bs_obj.find('ul', {'class':'Nlnb_menu_list'})\n",
    "# ul"
   ]
  },
  {
   "cell_type": "code",
   "execution_count": 44,
   "id": "8743c073-5ed7-4e53-bb31-50f58c786ad4",
   "metadata": {},
   "outputs": [
    {
     "data": {
      "text/plain": [
       "13"
      ]
     },
     "execution_count": 44,
     "metadata": {},
     "output_type": "execute_result"
    }
   ],
   "source": [
    "# 메뉴 항목 개수 출력 \n",
    "# ul 안의 li 항목 찾아서 개수 확인\n",
    "lis = ul.findAll('li')\n",
    "len(lis)"
   ]
  },
  {
   "cell_type": "code",
   "execution_count": null,
   "id": "bd0bfba7-28da-420f-92a3-0eceeb871a76",
   "metadata": {},
   "outputs": [],
   "source": [
    "# 언론사별 : https://news.naver.com/?viewType=pc\n",
    "# ...\n",
    "# 알고리즘 안내 : https://news.naver.com/algorithm"
   ]
  },
  {
   "cell_type": "code",
   "execution_count": 49,
   "id": "5d6a0f31-8bf1-4ba5-82b2-981dd2514212",
   "metadata": {},
   "outputs": [
    {
     "name": "stdout",
     "output_type": "stream",
     "text": [
      "언론사별 : https://news.naver.com/?viewType=pc\n",
      "정치 : https://news.naver.com/main/main.naver?mode=LSD&mid=shm&sid1=100\n",
      "경제 : https://news.naver.com/main/main.naver?mode=LSD&mid=shm&sid1=101\n",
      "사회 : https://news.naver.com/main/main.naver?mode=LSD&mid=shm&sid1=102\n",
      "생활/문화 : https://news.naver.com/main/main.naver?mode=LSD&mid=shm&sid1=103\n",
      "IT/과학 : https://news.naver.com/main/main.naver?mode=LSD&mid=shm&sid1=105\n",
      "세계 : https://news.naver.com/main/main.naver?mode=LSD&mid=shm&sid1=104\n",
      "랭킹 : https://news.naver.com/main/ranking/popularDay.naver\n",
      "신문보기 : https://news.naver.com/newspaper/home?viewType=pc\n",
      "오피니언 : https://news.naver.com/opinion/home\n",
      "TV : https://news.naver.com/main/tv/index.naver?mid=tvh\n",
      "팩트체크 : https://news.naver.com/main/factcheck/main.naver\n",
      "알고리즘 안내 : https://media.naver.com/algorithm\n"
     ]
    }
   ],
   "source": [
    "for li in lis:\n",
    "    a_tag = li.find('a')\n",
    "    print(a_tag.text, ':', a_tag['href'])"
   ]
  },
  {
   "cell_type": "code",
   "execution_count": 48,
   "id": "fd5b8909-8cf5-4e5c-84cb-7c104aa597a1",
   "metadata": {},
   "outputs": [
    {
     "name": "stdout",
     "output_type": "stream",
     "text": [
      "언론사별 : https://news.naver.com/?viewType=pc\n",
      "정치 : https://news.naver.com/main/main.naver?mode=LSD&mid=shm&sid1=100\n",
      "경제 : https://news.naver.com/main/main.naver?mode=LSD&mid=shm&sid1=101\n",
      "사회 : https://news.naver.com/main/main.naver?mode=LSD&mid=shm&sid1=102\n",
      "생활/문화 : https://news.naver.com/main/main.naver?mode=LSD&mid=shm&sid1=103\n",
      "IT/과학 : https://news.naver.com/main/main.naver?mode=LSD&mid=shm&sid1=105\n",
      "세계 : https://news.naver.com/main/main.naver?mode=LSD&mid=shm&sid1=104\n",
      "랭킹 : https://news.naver.com/main/ranking/popularDay.naver\n",
      "신문보기 : https://news.naver.com/newspaper/home?viewType=pc\n",
      "오피니언 : https://news.naver.com/opinion/home\n",
      "TV : https://news.naver.com/main/tv/index.naver?mid=tvh\n",
      "팩트체크 : https://news.naver.com/main/factcheck/main.naver\n",
      "알고리즘 안내 : https://media.naver.com/algorithm\n"
     ]
    }
   ],
   "source": [
    "# 또는\n",
    "nlnb_list = bs_obj.select('ul li.Nlist_item')\n",
    "for item in nlnb_list:\n",
    "    href_value = item.a.get(\"href\")\n",
    "    print(item.text,\":\",href_value)"
   ]
  },
  {
   "cell_type": "code",
   "execution_count": null,
   "id": "e78a1757-0523-4717-b673-18f8ed8769e5",
   "metadata": {},
   "outputs": [],
   "source": [
    "# 수집한 데이터를 csv 파일로 저장\n",
    "# (1) 섹션 메뉴와 링크를 리스트로 생성\n",
    "# (2) 데이터프레임 생성\n",
    "# (3) 파일로 저장"
   ]
  },
  {
   "cell_type": "code",
   "execution_count": 53,
   "id": "789c9e5d-75bf-4837-b695-162a9577cd76",
   "metadata": {},
   "outputs": [],
   "source": [
    "# (1) 섹션 메뉴와 링크를 리스트로 생성\n",
    "# 빈 리스트 생성\n",
    "section = []\n",
    "link = []\n",
    "\n",
    "# 리스트에 추가 \n",
    "for li in lis:\n",
    "    a_tag = li.find('a')\n",
    "    section.append(a_tag.text)\n",
    "    link.append(a_tag['href'])"
   ]
  },
  {
   "cell_type": "code",
   "execution_count": 54,
   "id": "3a56b482-d122-41bf-89b9-a733a50b655d",
   "metadata": {},
   "outputs": [
    {
     "data": {
      "text/plain": [
       "['언론사별',\n",
       " '정치',\n",
       " '경제',\n",
       " '사회',\n",
       " '생활/문화',\n",
       " 'IT/과학',\n",
       " '세계',\n",
       " '랭킹',\n",
       " '신문보기',\n",
       " '오피니언',\n",
       " 'TV',\n",
       " '팩트체크',\n",
       " '알고리즘 안내']"
      ]
     },
     "execution_count": 54,
     "metadata": {},
     "output_type": "execute_result"
    },
    {
     "data": {
      "text/plain": [
       "['https://news.naver.com/?viewType=pc',\n",
       " 'https://news.naver.com/main/main.naver?mode=LSD&mid=shm&sid1=100',\n",
       " 'https://news.naver.com/main/main.naver?mode=LSD&mid=shm&sid1=101',\n",
       " 'https://news.naver.com/main/main.naver?mode=LSD&mid=shm&sid1=102',\n",
       " 'https://news.naver.com/main/main.naver?mode=LSD&mid=shm&sid1=103',\n",
       " 'https://news.naver.com/main/main.naver?mode=LSD&mid=shm&sid1=105',\n",
       " 'https://news.naver.com/main/main.naver?mode=LSD&mid=shm&sid1=104',\n",
       " 'https://news.naver.com/main/ranking/popularDay.naver',\n",
       " 'https://news.naver.com/newspaper/home?viewType=pc',\n",
       " 'https://news.naver.com/opinion/home',\n",
       " 'https://news.naver.com/main/tv/index.naver?mid=tvh',\n",
       " 'https://news.naver.com/main/factcheck/main.naver',\n",
       " 'https://media.naver.com/algorithm']"
      ]
     },
     "execution_count": 54,
     "metadata": {},
     "output_type": "execute_result"
    }
   ],
   "source": [
    "section\n",
    "link"
   ]
  },
  {
   "cell_type": "code",
   "execution_count": null,
   "id": "0620a16f-bb08-40c1-ad76-3215b7fb72bf",
   "metadata": {},
   "outputs": [],
   "source": [
    "# (2) 데이터프레임 생성\n",
    "# pandas 라이브러리 사용"
   ]
  },
  {
   "cell_type": "code",
   "execution_count": 55,
   "id": "ffc4df29-71bb-4c7c-818a-8caf5441a74d",
   "metadata": {},
   "outputs": [],
   "source": [
    "import pandas as pd"
   ]
  },
  {
   "cell_type": "code",
   "execution_count": null,
   "id": "fbde97ab-96ae-421c-8311-dc82e6201202",
   "metadata": {},
   "outputs": [],
   "source": [
    "# !pip install pandas"
   ]
  },
  {
   "cell_type": "code",
   "execution_count": 56,
   "id": "d66e7954-a341-4d6e-9801-a023da1d4cf1",
   "metadata": {},
   "outputs": [],
   "source": [
    "# pd.DataFrame({'칼럼명':리스트, '칼러명':리스트})\n",
    "\n",
    "news_section_df = pd.DataFrame({'section':section, 'link':link})"
   ]
  },
  {
   "cell_type": "code",
   "execution_count": 57,
   "id": "64c18fb1-f9a5-432b-8eed-5c499755b068",
   "metadata": {},
   "outputs": [
    {
     "data": {
      "text/html": [
       "<div>\n",
       "<style scoped>\n",
       "    .dataframe tbody tr th:only-of-type {\n",
       "        vertical-align: middle;\n",
       "    }\n",
       "\n",
       "    .dataframe tbody tr th {\n",
       "        vertical-align: top;\n",
       "    }\n",
       "\n",
       "    .dataframe thead th {\n",
       "        text-align: right;\n",
       "    }\n",
       "</style>\n",
       "<table border=\"1\" class=\"dataframe\">\n",
       "  <thead>\n",
       "    <tr style=\"text-align: right;\">\n",
       "      <th></th>\n",
       "      <th>section</th>\n",
       "      <th>link</th>\n",
       "    </tr>\n",
       "  </thead>\n",
       "  <tbody>\n",
       "    <tr>\n",
       "      <th>0</th>\n",
       "      <td>언론사별</td>\n",
       "      <td>https://news.naver.com/?viewType=pc</td>\n",
       "    </tr>\n",
       "    <tr>\n",
       "      <th>1</th>\n",
       "      <td>정치</td>\n",
       "      <td>https://news.naver.com/main/main.naver?mode=LS...</td>\n",
       "    </tr>\n",
       "    <tr>\n",
       "      <th>2</th>\n",
       "      <td>경제</td>\n",
       "      <td>https://news.naver.com/main/main.naver?mode=LS...</td>\n",
       "    </tr>\n",
       "    <tr>\n",
       "      <th>3</th>\n",
       "      <td>사회</td>\n",
       "      <td>https://news.naver.com/main/main.naver?mode=LS...</td>\n",
       "    </tr>\n",
       "    <tr>\n",
       "      <th>4</th>\n",
       "      <td>생활/문화</td>\n",
       "      <td>https://news.naver.com/main/main.naver?mode=LS...</td>\n",
       "    </tr>\n",
       "    <tr>\n",
       "      <th>5</th>\n",
       "      <td>IT/과학</td>\n",
       "      <td>https://news.naver.com/main/main.naver?mode=LS...</td>\n",
       "    </tr>\n",
       "    <tr>\n",
       "      <th>6</th>\n",
       "      <td>세계</td>\n",
       "      <td>https://news.naver.com/main/main.naver?mode=LS...</td>\n",
       "    </tr>\n",
       "    <tr>\n",
       "      <th>7</th>\n",
       "      <td>랭킹</td>\n",
       "      <td>https://news.naver.com/main/ranking/popularDay...</td>\n",
       "    </tr>\n",
       "    <tr>\n",
       "      <th>8</th>\n",
       "      <td>신문보기</td>\n",
       "      <td>https://news.naver.com/newspaper/home?viewType=pc</td>\n",
       "    </tr>\n",
       "    <tr>\n",
       "      <th>9</th>\n",
       "      <td>오피니언</td>\n",
       "      <td>https://news.naver.com/opinion/home</td>\n",
       "    </tr>\n",
       "    <tr>\n",
       "      <th>10</th>\n",
       "      <td>TV</td>\n",
       "      <td>https://news.naver.com/main/tv/index.naver?mid...</td>\n",
       "    </tr>\n",
       "    <tr>\n",
       "      <th>11</th>\n",
       "      <td>팩트체크</td>\n",
       "      <td>https://news.naver.com/main/factcheck/main.naver</td>\n",
       "    </tr>\n",
       "    <tr>\n",
       "      <th>12</th>\n",
       "      <td>알고리즘 안내</td>\n",
       "      <td>https://media.naver.com/algorithm</td>\n",
       "    </tr>\n",
       "  </tbody>\n",
       "</table>\n",
       "</div>"
      ],
      "text/plain": [
       "    section                                               link\n",
       "0      언론사별                https://news.naver.com/?viewType=pc\n",
       "1        정치  https://news.naver.com/main/main.naver?mode=LS...\n",
       "2        경제  https://news.naver.com/main/main.naver?mode=LS...\n",
       "3        사회  https://news.naver.com/main/main.naver?mode=LS...\n",
       "4     생활/문화  https://news.naver.com/main/main.naver?mode=LS...\n",
       "5     IT/과학  https://news.naver.com/main/main.naver?mode=LS...\n",
       "6        세계  https://news.naver.com/main/main.naver?mode=LS...\n",
       "7        랭킹  https://news.naver.com/main/ranking/popularDay...\n",
       "8      신문보기  https://news.naver.com/newspaper/home?viewType=pc\n",
       "9      오피니언                https://news.naver.com/opinion/home\n",
       "10       TV  https://news.naver.com/main/tv/index.naver?mid...\n",
       "11     팩트체크   https://news.naver.com/main/factcheck/main.naver\n",
       "12  알고리즘 안내                  https://media.naver.com/algorithm"
      ]
     },
     "execution_count": 57,
     "metadata": {},
     "output_type": "execute_result"
    }
   ],
   "source": [
    "news_section_df"
   ]
  },
  {
   "cell_type": "code",
   "execution_count": null,
   "id": "f2033999-dbbe-46df-839a-5361edba814f",
   "metadata": {},
   "outputs": [],
   "source": [
    "# (3) 파일로 저장\n",
    "# ch21_crawling 폴더 안에 crawl_data 폴더 생성\n",
    "# 데이터프레임.to_csv('파일경로 및 파일명', index=0)"
   ]
  },
  {
   "cell_type": "code",
   "execution_count": 58,
   "id": "01f4f4c4-3388-46b5-bf9d-a3c73f485a13",
   "metadata": {},
   "outputs": [],
   "source": [
    "news_section_df.to_csv('./crawl_data/naver_news_section.csv')"
   ]
  },
  {
   "cell_type": "code",
   "execution_count": null,
   "id": "0c4b0148-f531-4aae-9b93-99f2425199e1",
   "metadata": {},
   "outputs": [],
   "source": []
  },
  {
   "cell_type": "code",
   "execution_count": null,
   "id": "3935fb1f-464d-49af-b3bc-bde70f8c12ae",
   "metadata": {},
   "outputs": [],
   "source": []
  }
 ],
 "metadata": {
  "kernelspec": {
   "display_name": "Python 3 (ipykernel)",
   "language": "python",
   "name": "python3"
  },
  "language_info": {
   "codemirror_mode": {
    "name": "ipython",
    "version": 3
   },
   "file_extension": ".py",
   "mimetype": "text/x-python",
   "name": "python",
   "nbconvert_exporter": "python",
   "pygments_lexer": "ipython3",
   "version": "3.11.5"
  }
 },
 "nbformat": 4,
 "nbformat_minor": 5
}
