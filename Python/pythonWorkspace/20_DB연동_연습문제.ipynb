{
 "cells": [
  {
   "cell_type": "markdown",
   "id": "d87744b5-9aaf-4326-a9d0-61c42249b438",
   "metadata": {},
   "source": [
    "### DB 연동 연습문제\n",
    "- (1) DB 연결\n",
    "- (2) prodcut 테이블에서 전체 상품 정보 출력\n",
    "- (3) 상품가격이 1,000,000원 이상인 상품만 출력\n",
    "- (4) 새로운 상품 등록 (입력 받아서)\n",
    "- (5) 상품번호가 10인 상품의 가격을 1000,000원으로 수정\n",
    "- (6) 상품번호가 15인 상품 삭제 (상품번호 입력 받아서)"
   ]
  },
  {
   "cell_type": "code",
   "execution_count": 7,
   "id": "ef7b630c-03ff-45bc-9b6e-4c95fee491a6",
   "metadata": {},
   "outputs": [
    {
     "name": "stdout",
     "output_type": "stream",
     "text": [
      "Requirement already satisfied: pymysql in /Library/Frameworks/Python.framework/Versions/3.11/lib/python3.11/site-packages (1.1.0)\n"
     ]
    }
   ],
   "source": [
    "!pip install pymysql"
   ]
  },
  {
   "cell_type": "code",
   "execution_count": 8,
   "id": "229ba8fd-6d99-4afa-a795-286cbdc3a00e",
   "metadata": {},
   "outputs": [],
   "source": [
    "import pymysql"
   ]
  },
  {
   "cell_type": "code",
   "execution_count": 32,
   "id": "ee492771-090f-403e-800b-915808c642c1",
   "metadata": {},
   "outputs": [],
   "source": [
    "# - (1) DB 연결\n",
    "\n",
    "conn = pymysql.connect(host='localhost', \n",
    "                       port=3306, \n",
    "                       user='root', \n",
    "                       passwd='sjh0808!',\n",
    "                       charset='utf8')"
   ]
  },
  {
   "cell_type": "code",
   "execution_count": 33,
   "id": "44a0aeaf-e38d-49b5-9140-56984cc7348e",
   "metadata": {},
   "outputs": [],
   "source": [
    "cursor = conn.cursor()"
   ]
  },
  {
   "cell_type": "code",
   "execution_count": 34,
   "id": "53628a4b-1d8f-490f-bab3-c4860a0c1ec0",
   "metadata": {},
   "outputs": [
    {
     "data": {
      "text/plain": [
       "9"
      ]
     },
     "execution_count": 34,
     "metadata": {},
     "output_type": "execute_result"
    }
   ],
   "source": [
    "sql = 'show databases'\n",
    "cursor.execute(sql)"
   ]
  },
  {
   "cell_type": "code",
   "execution_count": 35,
   "id": "d13bf678-336d-4783-b2f4-303dc19f8846",
   "metadata": {},
   "outputs": [
    {
     "data": {
      "text/plain": [
       "(('information_schema',),\n",
       " ('mysql',),\n",
       " ('performance_schema',),\n",
       " ('shopdb',),\n",
       " ('sqldb1',),\n",
       " ('sqldb2',),\n",
       " ('sqldb3',),\n",
       " ('sys',),\n",
       " ('testdb',))"
      ]
     },
     "execution_count": 35,
     "metadata": {},
     "output_type": "execute_result"
    }
   ],
   "source": [
    "# 4. sql 실행 결과 추출 (출력)\n",
    "# 서버로부터 받은 결과를 출력 \n",
    "# fetchall() 메소드 사용 : 모든 데이터를 한꺼번에 클라이언트로 받아올 때 사용 \n",
    "result = cursor.fetchall()\n",
    "result"
   ]
  },
  {
   "cell_type": "code",
   "execution_count": 36,
   "id": "b53369a4-f5f0-42e5-83e3-451f30a0e4fc",
   "metadata": {},
   "outputs": [
    {
     "data": {
      "text/plain": [
       "0"
      ]
     },
     "execution_count": 36,
     "metadata": {},
     "output_type": "execute_result"
    }
   ],
   "source": [
    "sql = 'use sqldb3'\n",
    "cursor.execute(sql)"
   ]
  },
  {
   "cell_type": "code",
   "execution_count": 37,
   "id": "4d90fa80-c309-40b6-bc6d-cab07be5d63b",
   "metadata": {},
   "outputs": [
    {
     "data": {
      "text/plain": [
       "(('book',),\n",
       " ('booksale',),\n",
       " ('client',),\n",
       " ('client_view',),\n",
       " ('flower',),\n",
       " ('movie',),\n",
       " ('new_book1',),\n",
       " ('new_book2',),\n",
       " ('product',),\n",
       " ('publisher',),\n",
       " ('top5_sales_client2',),\n",
       " ('top5_sales_client3',),\n",
       " ('top5_sales_clients',))"
      ]
     },
     "execution_count": 37,
     "metadata": {},
     "output_type": "execute_result"
    }
   ],
   "source": [
    "sql = \"show tables\"\n",
    "cursor.execute(sql)\n",
    "cursor.fetchall()"
   ]
  },
  {
   "cell_type": "code",
   "execution_count": 38,
   "id": "e4c8cda6-c7c1-4377-9cde-0215687a7f03",
   "metadata": {},
   "outputs": [
    {
     "data": {
      "text/plain": [
       "(('prdNo', 'varchar(10)', 'NO', 'PRI', None, ''),\n",
       " ('prdName', 'varchar(20)', 'YES', '', None, ''),\n",
       " ('prdPrice', 'int', 'YES', '', None, ''),\n",
       " ('prdMaker', 'varchar(30)', 'YES', '', None, ''),\n",
       " ('prdColor', 'varchar(10)', 'YES', '', None, ''),\n",
       " ('ctgNo', 'int', 'YES', '', None, ''))"
      ]
     },
     "execution_count": 38,
     "metadata": {},
     "output_type": "execute_result"
    }
   ],
   "source": [
    "sql = 'desc product'\n",
    "cursor.execute(sql)\n",
    "cursor.fetchall()"
   ]
  },
  {
   "cell_type": "code",
   "execution_count": 39,
   "id": "f0eddbc8-6892-421c-a5f8-3f9c14529259",
   "metadata": {},
   "outputs": [
    {
     "data": {
      "text/plain": [
       "(('1', '삼성 냉장고 비스포크', 1620000, '삼성전자', '새틴 코럴', 1),\n",
       " ('10', 'HP 게이밍 노트북', 1200000, 'HP', '흰색', 2),\n",
       " ('11', '32인치 LED 모니터', 299000, 'LG전자', '검정', 2),\n",
       " ('12', '광시야각 LED 모니터', 195000, '삼성전자', '흰색', 2),\n",
       " ('13', '등산배낭 옵티마', 68000, '밀레', '자주', 4),\n",
       " ('14', '35L 등산배낭', 49000, '(주)셀파', '노랑', 4),\n",
       " ('15', '원터치 자동 텐트', 58000, '이지트래블러', '그린', 4),\n",
       " ('2', 'LG 디오스 와인셀러', 1367000, 'LG전자', '검정', 1),\n",
       " ('3', 'QLED 8K TV', 2175000, '삼성전자', '블랙', 1),\n",
       " ('4', '올레드 TV 55', 799000, 'LG전자', '검정', 1),\n",
       " ('5', 'UHD TV', 2250000, '삼성전자', '은색', 1),\n",
       " ('6', '유아용 세발 자전거', 76000, '삼천리 자전거', '빨강', 3),\n",
       " ('7', '로드 사이클 자전거', 150000, '알톤', '검정', 3),\n",
       " ('8', '여성용 클래식 자전거', 100000, '알톤', '핑크', 3),\n",
       " ('9', '노트북9 metal', 1390000, '도시바', '은색', 2))"
      ]
     },
     "execution_count": 39,
     "metadata": {},
     "output_type": "execute_result"
    }
   ],
   "source": [
    "# - (2) prodcut 테이블에서 전체 상품 정보 출력\n",
    "\n",
    "sql = 'select * from sqldb3.product'\n",
    "cursor.execute(sql)\n",
    "result = cursor.fetchall()\n",
    "result"
   ]
  },
  {
   "cell_type": "code",
   "execution_count": 46,
   "id": "eab7f6ac-516b-4f6e-b35e-923d953b1fba",
   "metadata": {},
   "outputs": [
    {
     "data": {
      "text/plain": [
       "(('1', '삼성 냉장고 비스포크', 1620000, '삼성전자', '새틴 코럴', 1),\n",
       " ('10', 'HP 게이밍 노트북', 1200000, 'HP', '흰색', 2),\n",
       " ('11', '32인치 LED 모니터', 299000, 'LG전자', '검정', 2),\n",
       " ('12', '광시야각 LED 모니터', 195000, '삼성전자', '흰색', 2),\n",
       " ('13', '등산배낭 옵티마', 68000, '밀레', '자주', 4),\n",
       " ('14', '35L 등산배낭', 49000, '(주)셀파', '노랑', 4),\n",
       " ('15', '원터치 자동 텐트', 58000, '이지트래블러', '그린', 4),\n",
       " ('2', 'LG 디오스 와인셀러', 1367000, 'LG전자', '검정', 1),\n",
       " ('3', 'QLED 8K TV', 2175000, '삼성전자', '블랙', 1),\n",
       " ('4', '올레드 TV 55', 799000, 'LG전자', '검정', 1),\n",
       " ('5', 'UHD TV', 2250000, '삼성전자', '은색', 1),\n",
       " ('6', '유아용 세발 자전거', 76000, '삼천리 자전거', '빨강', 3),\n",
       " ('7', '로드 사이클 자전거', 150000, '알톤', '검정', 3),\n",
       " ('8', '여성용 클래식 자전거', 100000, '알톤', '핑크', 3),\n",
       " ('9', '노트북9 metal', 1390000, '도시바', '은색', 2))"
      ]
     },
     "execution_count": 46,
     "metadata": {},
     "output_type": "execute_result"
    }
   ],
   "source": [
    "sql = 'select * from product'\n",
    "cursor.execute(sql)\n",
    "result = cursor.fetchall()\n",
    "result"
   ]
  },
  {
   "cell_type": "code",
   "execution_count": 45,
   "id": "45f898d7-9440-475c-8517-f4a3ac128f4f",
   "metadata": {},
   "outputs": [
    {
     "name": "stdout",
     "output_type": "stream",
     "text": [
      "1 삼성 냉장고 비스포크 1620000 \n",
      "10 HP 게이밍 노트북 1200000 \n",
      "2 LG 디오스 와인셀러 1367000 \n",
      "3 QLED 8K TV 2175000 \n",
      "5 UHD TV 2250000 \n",
      "9 노트북9 metal 1390000 \n"
     ]
    }
   ],
   "source": [
    "# - (3) 상품가격이 1,000,000원 이상인 상품만 출력\n",
    "sql = 'select prdNo, prdName, prdPrice from product where prdPrice >= 1000000'\n",
    "cursor.execute(sql)\n",
    "result = cursor.fetchall()\n",
    "for re in result:\n",
    "    for r in re:\n",
    "        print(r, end=\" \")\n",
    "    print()"
   ]
  },
  {
   "cell_type": "code",
   "execution_count": 47,
   "id": "24cb387b-e616-479f-8a03-6753887bfd0c",
   "metadata": {},
   "outputs": [
    {
     "data": {
      "text/plain": [
       "(('1', '삼성 냉장고 비스포크', 1620000, '삼성전자', '새틴 코럴', 1),\n",
       " ('10', 'HP 게이밍 노트북', 1200000, 'HP', '흰색', 2),\n",
       " ('2', 'LG 디오스 와인셀러', 1367000, 'LG전자', '검정', 1),\n",
       " ('3', 'QLED 8K TV', 2175000, '삼성전자', '블랙', 1),\n",
       " ('5', 'UHD TV', 2250000, '삼성전자', '은색', 1),\n",
       " ('9', '노트북9 metal', 1390000, '도시바', '은색', 2))"
      ]
     },
     "execution_count": 47,
     "metadata": {},
     "output_type": "execute_result"
    }
   ],
   "source": [
    "sql = 'select * from product where prdPrice >= 1000000'\n",
    "cursor.execute(sql)\n",
    "result = cursor.fetchall()\n",
    "result"
   ]
  },
  {
   "cell_type": "code",
   "execution_count": 48,
   "id": "de1500a0-4d7a-40a8-8bb6-2741baf0d8b5",
   "metadata": {},
   "outputs": [
    {
     "name": "stdin",
     "output_type": "stream",
     "text": [
      "상품번호 입력 :  16\n",
      "상품명 입력 :  삼성 오디세이 노트북\n",
      "상품가격 입력 :  1500000\n",
      "상품출처 입력 :  삼성\n",
      "상품색깔 입력 :  검정\n",
      "카테고리넘버 입력 :  2\n"
     ]
    }
   ],
   "source": [
    "# - (4) 새로운 상품 등록 (입력 받아서)\n",
    "prdNo = input(\"상품번호 입력 : \")\n",
    "prdName = input(\"상품명 입력 : \")\n",
    "prdPrice = input(\"상품가격 입력 : \")\n",
    "prdMaker = input(\"상품출처 입력 : \")\n",
    "prdColor = input(\"상품색깔 입력 : \")\n",
    "ctgNo = input(\"카테고리넘버 입력 : \")"
   ]
  },
  {
   "cell_type": "code",
   "execution_count": 49,
   "id": "200201d4-9186-48e6-9dba-62be7b0ce4f1",
   "metadata": {},
   "outputs": [
    {
     "data": {
      "text/plain": [
       "('16', '삼성 오디세이 노트북', '1500000', '삼성', '검정', '2')"
      ]
     },
     "execution_count": 49,
     "metadata": {},
     "output_type": "execute_result"
    }
   ],
   "source": [
    "prdNo, prdName, prdPrice, prdMaker, prdColor, ctgNo"
   ]
  },
  {
   "cell_type": "code",
   "execution_count": 50,
   "id": "1eb8df82-0b76-49bf-bc97-1d8f62767562",
   "metadata": {},
   "outputs": [],
   "source": [
    "sql = \"insert into product values(%s, %s, %s, %s, %s, %s)\"\n",
    "\n",
    "# # 실제 전달될 값\n",
    "values = (prdNo, prdName, prdPrice, prdMaker, prdColor, ctgNo)\n",
    "\n",
    "# # 값도 같이 전달\n",
    "cursor.execute(sql, values)\n",
    "conn.commit()"
   ]
  },
  {
   "cell_type": "code",
   "execution_count": 58,
   "id": "ffc15621-4631-46e7-98f0-2e38c0cf9aa5",
   "metadata": {},
   "outputs": [
    {
     "data": {
      "text/plain": [
       "(('1', '삼성 냉장고 비스포크', 1620000, '삼성전자', '새틴 코럴', 1),\n",
       " ('10', 'HP 게이밍 노트북', 1200000, 'HP', '흰색', 2),\n",
       " ('11', '32인치 LED 모니터', 299000, 'LG전자', '검정', 2),\n",
       " ('12', '광시야각 LED 모니터', 195000, '삼성전자', '흰색', 2),\n",
       " ('13', '등산배낭 옵티마', 68000, '밀레', '자주', 4),\n",
       " ('14', '35L 등산배낭', 49000, '(주)셀파', '노랑', 4),\n",
       " ('15', '원터치 자동 텐트', 58000, '이지트래블러', '그린', 4),\n",
       " ('16', '삼성 오디세이 노트북', 1500000, '삼성', '검정', 2),\n",
       " ('2', 'LG 디오스 와인셀러', 1367000, 'LG전자', '검정', 1),\n",
       " ('3', 'QLED 8K TV', 2175000, '삼성전자', '블랙', 1),\n",
       " ('4', '올레드 TV 55', 799000, 'LG전자', '검정', 1),\n",
       " ('5', 'UHD TV', 2250000, '삼성전자', '은색', 1),\n",
       " ('6', '유아용 세발 자전거', 76000, '삼천리 자전거', '빨강', 3),\n",
       " ('7', '로드 사이클 자전거', 150000, '알톤', '검정', 3),\n",
       " ('8', '여성용 클래식 자전거', 100000, '알톤', '핑크', 3),\n",
       " ('9', '노트북9 metal', 1390000, '도시바', '은색', 2))"
      ]
     },
     "execution_count": 58,
     "metadata": {},
     "output_type": "execute_result"
    }
   ],
   "source": [
    "sql = 'select * from product'\n",
    "cursor.execute(sql)\n",
    "result = cursor.fetchall()\n",
    "result"
   ]
  },
  {
   "cell_type": "code",
   "execution_count": 61,
   "id": "73e28386-e3c8-46be-964a-feec0ee62326",
   "metadata": {},
   "outputs": [],
   "source": [
    "# - (5) 상품번호가 10인 상품의 가격을 1000,000원으로 수정\n",
    "sql = \"update product set prdPrice=1000000 where prdNo='10'\"\n",
    "cursor.execute(sql)\n",
    "conn.commit()"
   ]
  },
  {
   "cell_type": "code",
   "execution_count": 62,
   "id": "4e9a862a-e280-4107-8868-c715f8aa1b39",
   "metadata": {},
   "outputs": [
    {
     "data": {
      "text/plain": [
       "(('10', 'HP 게이밍 노트북', 1000000, 'HP', '흰색', 2),)"
      ]
     },
     "execution_count": 62,
     "metadata": {},
     "output_type": "execute_result"
    }
   ],
   "source": [
    "sql = 'select * from product where prdNo = \"10\"'\n",
    "cursor.execute(sql)\n",
    "result = cursor.fetchall()\n",
    "result"
   ]
  },
  {
   "cell_type": "code",
   "execution_count": 63,
   "id": "c4ea0369-86b6-4b09-a98d-ae0a67a3fe67",
   "metadata": {},
   "outputs": [
    {
     "name": "stdin",
     "output_type": "stream",
     "text": [
      "삭제할 상품번호 입력 :  15\n"
     ]
    }
   ],
   "source": [
    "# - (6) 상품번호가 15인 상품 삭제 (상품번호 입력 받아서)\n",
    "prdNo = input(\"삭제할 상품번호 입력 : \")"
   ]
  },
  {
   "cell_type": "code",
   "execution_count": 65,
   "id": "21c51e3f-9f7d-49af-9a03-9470703137c5",
   "metadata": {},
   "outputs": [],
   "source": [
    "sql = 'delete from product where prdNo = ' + prdNo\n",
    "cursor.execute(sql)\n",
    "conn.commit()"
   ]
  },
  {
   "cell_type": "code",
   "execution_count": 67,
   "id": "04e44289-1c5c-4ea2-897b-2d3628707f8f",
   "metadata": {},
   "outputs": [
    {
     "data": {
      "text/plain": [
       "(('1', '삼성 냉장고 비스포크', 1620000, '삼성전자', '새틴 코럴', 1),\n",
       " ('10', 'HP 게이밍 노트북', 1000000, 'HP', '흰색', 2),\n",
       " ('11', '32인치 LED 모니터', 299000, 'LG전자', '검정', 2),\n",
       " ('12', '광시야각 LED 모니터', 195000, '삼성전자', '흰색', 2),\n",
       " ('13', '등산배낭 옵티마', 68000, '밀레', '자주', 4),\n",
       " ('14', '35L 등산배낭', 49000, '(주)셀파', '노랑', 4),\n",
       " ('16', '삼성 오디세이 노트북', 1500000, '삼성', '검정', 2),\n",
       " ('2', 'LG 디오스 와인셀러', 1367000, 'LG전자', '검정', 1),\n",
       " ('3', 'QLED 8K TV', 2175000, '삼성전자', '블랙', 1),\n",
       " ('4', '올레드 TV 55', 799000, 'LG전자', '검정', 1),\n",
       " ('5', 'UHD TV', 2250000, '삼성전자', '은색', 1),\n",
       " ('6', '유아용 세발 자전거', 76000, '삼천리 자전거', '빨강', 3),\n",
       " ('7', '로드 사이클 자전거', 150000, '알톤', '검정', 3),\n",
       " ('8', '여성용 클래식 자전거', 100000, '알톤', '핑크', 3),\n",
       " ('9', '노트북9 metal', 1390000, '도시바', '은색', 2))"
      ]
     },
     "execution_count": 67,
     "metadata": {},
     "output_type": "execute_result"
    }
   ],
   "source": [
    "sql = 'select * from product'\n",
    "cursor.execute(sql)\n",
    "result = cursor.fetchall()\n",
    "result"
   ]
  },
  {
   "cell_type": "code",
   "execution_count": null,
   "id": "040f244f-7851-4a45-9bf7-e9114e79bb17",
   "metadata": {},
   "outputs": [],
   "source": []
  },
  {
   "cell_type": "code",
   "execution_count": null,
   "id": "4b92729c-53d4-4ddc-9d17-0972641579e3",
   "metadata": {},
   "outputs": [],
   "source": [
    "cursor.close()\n",
    "conn.close()"
   ]
  }
 ],
 "metadata": {
  "kernelspec": {
   "display_name": "Python 3 (ipykernel)",
   "language": "python",
   "name": "python3"
  },
  "language_info": {
   "codemirror_mode": {
    "name": "ipython",
    "version": 3
   },
   "file_extension": ".py",
   "mimetype": "text/x-python",
   "name": "python",
   "nbconvert_exporter": "python",
   "pygments_lexer": "ipython3",
   "version": "3.11.5"
  },
  "widgets": {
   "application/vnd.jupyter.widget-state+json": {
    "state": {},
    "version_major": 2,
    "version_minor": 0
   }
  }
 },
 "nbformat": 4,
 "nbformat_minor": 5
}
